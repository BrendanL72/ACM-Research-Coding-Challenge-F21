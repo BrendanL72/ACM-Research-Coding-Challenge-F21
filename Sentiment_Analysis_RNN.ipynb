{
  "nbformat": 4,
  "nbformat_minor": 0,
  "metadata": {
    "accelerator": "GPU",
    "colab": {
      "name": "Sentiment Analysis RNN.ipynb",
      "provenance": [],
      "collapsed_sections": [],
      "include_colab_link": true
    },
    "kernelspec": {
      "display_name": "Python 3",
      "name": "python3"
    },
    "language_info": {
      "name": "python"
    },
    "widgets": {
      "application/vnd.jupyter.widget-state+json": {
        "be3fdc54429b42ed88e2c3854cd1e9b4": {
          "model_module": "@jupyter-widgets/controls",
          "model_name": "HBoxModel",
          "model_module_version": "1.5.0",
          "state": {
            "_view_name": "HBoxView",
            "_dom_classes": [],
            "_model_name": "HBoxModel",
            "_view_module": "@jupyter-widgets/controls",
            "_model_module_version": "1.5.0",
            "_view_count": null,
            "_view_module_version": "1.5.0",
            "box_style": "",
            "layout": "IPY_MODEL_7c9b5e2a39be4ec6b9d30336f304c120",
            "_model_module": "@jupyter-widgets/controls",
            "children": [
              "IPY_MODEL_4d5b6fb4ad0c4bbb816e28699b1b5473",
              "IPY_MODEL_ceae95c2ebf64b509213e20aa542fc31",
              "IPY_MODEL_952ee57a290048de9ac0a2de423fe361"
            ]
          }
        },
        "7c9b5e2a39be4ec6b9d30336f304c120": {
          "model_module": "@jupyter-widgets/base",
          "model_name": "LayoutModel",
          "model_module_version": "1.2.0",
          "state": {
            "_view_name": "LayoutView",
            "grid_template_rows": null,
            "right": null,
            "justify_content": null,
            "_view_module": "@jupyter-widgets/base",
            "overflow": null,
            "_model_module_version": "1.2.0",
            "_view_count": null,
            "flex_flow": null,
            "width": null,
            "min_width": null,
            "border": null,
            "align_items": null,
            "bottom": null,
            "_model_module": "@jupyter-widgets/base",
            "top": null,
            "grid_column": null,
            "overflow_y": null,
            "overflow_x": null,
            "grid_auto_flow": null,
            "grid_area": null,
            "grid_template_columns": null,
            "flex": null,
            "_model_name": "LayoutModel",
            "justify_items": null,
            "grid_row": null,
            "max_height": null,
            "align_content": null,
            "visibility": null,
            "align_self": null,
            "height": null,
            "min_height": null,
            "padding": null,
            "grid_auto_rows": null,
            "grid_gap": null,
            "max_width": null,
            "order": null,
            "_view_module_version": "1.2.0",
            "grid_template_areas": null,
            "object_position": null,
            "object_fit": null,
            "grid_auto_columns": null,
            "margin": null,
            "display": null,
            "left": null
          }
        },
        "4d5b6fb4ad0c4bbb816e28699b1b5473": {
          "model_module": "@jupyter-widgets/controls",
          "model_name": "HTMLModel",
          "model_module_version": "1.5.0",
          "state": {
            "_view_name": "HTMLView",
            "style": "IPY_MODEL_8bf78f1e29be408a810bcc0297976cd8",
            "_dom_classes": [],
            "description": "",
            "_model_name": "HTMLModel",
            "placeholder": "​",
            "_view_module": "@jupyter-widgets/controls",
            "_model_module_version": "1.5.0",
            "value": "Dl Completed...: 100%",
            "_view_count": null,
            "_view_module_version": "1.5.0",
            "description_tooltip": null,
            "_model_module": "@jupyter-widgets/controls",
            "layout": "IPY_MODEL_96625ae831d745d19bc69b70e0a866d1"
          }
        },
        "ceae95c2ebf64b509213e20aa542fc31": {
          "model_module": "@jupyter-widgets/controls",
          "model_name": "FloatProgressModel",
          "model_module_version": "1.5.0",
          "state": {
            "_view_name": "ProgressView",
            "style": "IPY_MODEL_c8aa36f766584223873903609d760e4a",
            "_dom_classes": [],
            "description": "",
            "_model_name": "FloatProgressModel",
            "bar_style": "success",
            "max": 1,
            "_view_module": "@jupyter-widgets/controls",
            "_model_module_version": "1.5.0",
            "value": 1,
            "_view_count": null,
            "_view_module_version": "1.5.0",
            "orientation": "horizontal",
            "min": 0,
            "description_tooltip": null,
            "_model_module": "@jupyter-widgets/controls",
            "layout": "IPY_MODEL_eb430b73868c4e63abb364dd505dd772"
          }
        },
        "952ee57a290048de9ac0a2de423fe361": {
          "model_module": "@jupyter-widgets/controls",
          "model_name": "HTMLModel",
          "model_module_version": "1.5.0",
          "state": {
            "_view_name": "HTMLView",
            "style": "IPY_MODEL_1814193d8b3e48c9acaa4fa2c2241b73",
            "_dom_classes": [],
            "description": "",
            "_model_name": "HTMLModel",
            "placeholder": "​",
            "_view_module": "@jupyter-widgets/controls",
            "_model_module_version": "1.5.0",
            "value": " 1/1 [00:04&lt;00:00,  4.37s/ url]",
            "_view_count": null,
            "_view_module_version": "1.5.0",
            "description_tooltip": null,
            "_model_module": "@jupyter-widgets/controls",
            "layout": "IPY_MODEL_ca2e83d6903d4a2bab1874f8425f91bf"
          }
        },
        "8bf78f1e29be408a810bcc0297976cd8": {
          "model_module": "@jupyter-widgets/controls",
          "model_name": "DescriptionStyleModel",
          "model_module_version": "1.5.0",
          "state": {
            "_view_name": "StyleView",
            "_model_name": "DescriptionStyleModel",
            "description_width": "",
            "_view_module": "@jupyter-widgets/base",
            "_model_module_version": "1.5.0",
            "_view_count": null,
            "_view_module_version": "1.2.0",
            "_model_module": "@jupyter-widgets/controls"
          }
        },
        "96625ae831d745d19bc69b70e0a866d1": {
          "model_module": "@jupyter-widgets/base",
          "model_name": "LayoutModel",
          "model_module_version": "1.2.0",
          "state": {
            "_view_name": "LayoutView",
            "grid_template_rows": null,
            "right": null,
            "justify_content": null,
            "_view_module": "@jupyter-widgets/base",
            "overflow": null,
            "_model_module_version": "1.2.0",
            "_view_count": null,
            "flex_flow": null,
            "width": null,
            "min_width": null,
            "border": null,
            "align_items": null,
            "bottom": null,
            "_model_module": "@jupyter-widgets/base",
            "top": null,
            "grid_column": null,
            "overflow_y": null,
            "overflow_x": null,
            "grid_auto_flow": null,
            "grid_area": null,
            "grid_template_columns": null,
            "flex": null,
            "_model_name": "LayoutModel",
            "justify_items": null,
            "grid_row": null,
            "max_height": null,
            "align_content": null,
            "visibility": null,
            "align_self": null,
            "height": null,
            "min_height": null,
            "padding": null,
            "grid_auto_rows": null,
            "grid_gap": null,
            "max_width": null,
            "order": null,
            "_view_module_version": "1.2.0",
            "grid_template_areas": null,
            "object_position": null,
            "object_fit": null,
            "grid_auto_columns": null,
            "margin": null,
            "display": null,
            "left": null
          }
        },
        "c8aa36f766584223873903609d760e4a": {
          "model_module": "@jupyter-widgets/controls",
          "model_name": "ProgressStyleModel",
          "model_module_version": "1.5.0",
          "state": {
            "_view_name": "StyleView",
            "_model_name": "ProgressStyleModel",
            "description_width": "",
            "_view_module": "@jupyter-widgets/base",
            "_model_module_version": "1.5.0",
            "_view_count": null,
            "_view_module_version": "1.2.0",
            "bar_color": null,
            "_model_module": "@jupyter-widgets/controls"
          }
        },
        "eb430b73868c4e63abb364dd505dd772": {
          "model_module": "@jupyter-widgets/base",
          "model_name": "LayoutModel",
          "model_module_version": "1.2.0",
          "state": {
            "_view_name": "LayoutView",
            "grid_template_rows": null,
            "right": null,
            "justify_content": null,
            "_view_module": "@jupyter-widgets/base",
            "overflow": null,
            "_model_module_version": "1.2.0",
            "_view_count": null,
            "flex_flow": null,
            "width": "20px",
            "min_width": null,
            "border": null,
            "align_items": null,
            "bottom": null,
            "_model_module": "@jupyter-widgets/base",
            "top": null,
            "grid_column": null,
            "overflow_y": null,
            "overflow_x": null,
            "grid_auto_flow": null,
            "grid_area": null,
            "grid_template_columns": null,
            "flex": null,
            "_model_name": "LayoutModel",
            "justify_items": null,
            "grid_row": null,
            "max_height": null,
            "align_content": null,
            "visibility": null,
            "align_self": null,
            "height": null,
            "min_height": null,
            "padding": null,
            "grid_auto_rows": null,
            "grid_gap": null,
            "max_width": null,
            "order": null,
            "_view_module_version": "1.2.0",
            "grid_template_areas": null,
            "object_position": null,
            "object_fit": null,
            "grid_auto_columns": null,
            "margin": null,
            "display": null,
            "left": null
          }
        },
        "1814193d8b3e48c9acaa4fa2c2241b73": {
          "model_module": "@jupyter-widgets/controls",
          "model_name": "DescriptionStyleModel",
          "model_module_version": "1.5.0",
          "state": {
            "_view_name": "StyleView",
            "_model_name": "DescriptionStyleModel",
            "description_width": "",
            "_view_module": "@jupyter-widgets/base",
            "_model_module_version": "1.5.0",
            "_view_count": null,
            "_view_module_version": "1.2.0",
            "_model_module": "@jupyter-widgets/controls"
          }
        },
        "ca2e83d6903d4a2bab1874f8425f91bf": {
          "model_module": "@jupyter-widgets/base",
          "model_name": "LayoutModel",
          "model_module_version": "1.2.0",
          "state": {
            "_view_name": "LayoutView",
            "grid_template_rows": null,
            "right": null,
            "justify_content": null,
            "_view_module": "@jupyter-widgets/base",
            "overflow": null,
            "_model_module_version": "1.2.0",
            "_view_count": null,
            "flex_flow": null,
            "width": null,
            "min_width": null,
            "border": null,
            "align_items": null,
            "bottom": null,
            "_model_module": "@jupyter-widgets/base",
            "top": null,
            "grid_column": null,
            "overflow_y": null,
            "overflow_x": null,
            "grid_auto_flow": null,
            "grid_area": null,
            "grid_template_columns": null,
            "flex": null,
            "_model_name": "LayoutModel",
            "justify_items": null,
            "grid_row": null,
            "max_height": null,
            "align_content": null,
            "visibility": null,
            "align_self": null,
            "height": null,
            "min_height": null,
            "padding": null,
            "grid_auto_rows": null,
            "grid_gap": null,
            "max_width": null,
            "order": null,
            "_view_module_version": "1.2.0",
            "grid_template_areas": null,
            "object_position": null,
            "object_fit": null,
            "grid_auto_columns": null,
            "margin": null,
            "display": null,
            "left": null
          }
        },
        "1e9fa94d12d0454cb9c27e0c46cc593b": {
          "model_module": "@jupyter-widgets/controls",
          "model_name": "HBoxModel",
          "model_module_version": "1.5.0",
          "state": {
            "_view_name": "HBoxView",
            "_dom_classes": [],
            "_model_name": "HBoxModel",
            "_view_module": "@jupyter-widgets/controls",
            "_model_module_version": "1.5.0",
            "_view_count": null,
            "_view_module_version": "1.5.0",
            "box_style": "",
            "layout": "IPY_MODEL_ce2a04d2de194f26a5a7cd16f5246e7f",
            "_model_module": "@jupyter-widgets/controls",
            "children": [
              "IPY_MODEL_cb048d44c6b84be8aad42a090a40f23f",
              "IPY_MODEL_c555cc1958c04b25aee1e58448fad856",
              "IPY_MODEL_dd5d0f0669b24cbeb3d749580e502c73"
            ]
          }
        },
        "ce2a04d2de194f26a5a7cd16f5246e7f": {
          "model_module": "@jupyter-widgets/base",
          "model_name": "LayoutModel",
          "model_module_version": "1.2.0",
          "state": {
            "_view_name": "LayoutView",
            "grid_template_rows": null,
            "right": null,
            "justify_content": null,
            "_view_module": "@jupyter-widgets/base",
            "overflow": null,
            "_model_module_version": "1.2.0",
            "_view_count": null,
            "flex_flow": null,
            "width": null,
            "min_width": null,
            "border": null,
            "align_items": null,
            "bottom": null,
            "_model_module": "@jupyter-widgets/base",
            "top": null,
            "grid_column": null,
            "overflow_y": null,
            "overflow_x": null,
            "grid_auto_flow": null,
            "grid_area": null,
            "grid_template_columns": null,
            "flex": null,
            "_model_name": "LayoutModel",
            "justify_items": null,
            "grid_row": null,
            "max_height": null,
            "align_content": null,
            "visibility": null,
            "align_self": null,
            "height": null,
            "min_height": null,
            "padding": null,
            "grid_auto_rows": null,
            "grid_gap": null,
            "max_width": null,
            "order": null,
            "_view_module_version": "1.2.0",
            "grid_template_areas": null,
            "object_position": null,
            "object_fit": null,
            "grid_auto_columns": null,
            "margin": null,
            "display": null,
            "left": null
          }
        },
        "cb048d44c6b84be8aad42a090a40f23f": {
          "model_module": "@jupyter-widgets/controls",
          "model_name": "HTMLModel",
          "model_module_version": "1.5.0",
          "state": {
            "_view_name": "HTMLView",
            "style": "IPY_MODEL_79604429c10e4765a7fc5ed881ccaf64",
            "_dom_classes": [],
            "description": "",
            "_model_name": "HTMLModel",
            "placeholder": "​",
            "_view_module": "@jupyter-widgets/controls",
            "_model_module_version": "1.5.0",
            "value": "Dl Size...: 100%",
            "_view_count": null,
            "_view_module_version": "1.5.0",
            "description_tooltip": null,
            "_model_module": "@jupyter-widgets/controls",
            "layout": "IPY_MODEL_28c51d67001c4e739c56acf9ecaf5fc3"
          }
        },
        "c555cc1958c04b25aee1e58448fad856": {
          "model_module": "@jupyter-widgets/controls",
          "model_name": "FloatProgressModel",
          "model_module_version": "1.5.0",
          "state": {
            "_view_name": "ProgressView",
            "style": "IPY_MODEL_a0ad5d843b434d8bb04854a39a3709c0",
            "_dom_classes": [],
            "description": "",
            "_model_name": "FloatProgressModel",
            "bar_style": "success",
            "max": 1,
            "_view_module": "@jupyter-widgets/controls",
            "_model_module_version": "1.5.0",
            "value": 1,
            "_view_count": null,
            "_view_module_version": "1.5.0",
            "orientation": "horizontal",
            "min": 0,
            "description_tooltip": null,
            "_model_module": "@jupyter-widgets/controls",
            "layout": "IPY_MODEL_b22a14069e7c4a188913fbcf17596506"
          }
        },
        "dd5d0f0669b24cbeb3d749580e502c73": {
          "model_module": "@jupyter-widgets/controls",
          "model_name": "HTMLModel",
          "model_module_version": "1.5.0",
          "state": {
            "_view_name": "HTMLView",
            "style": "IPY_MODEL_eb26b28167264fe493afa60ff5e3a65a",
            "_dom_classes": [],
            "description": "",
            "_model_name": "HTMLModel",
            "placeholder": "​",
            "_view_module": "@jupyter-widgets/controls",
            "_model_module_version": "1.5.0",
            "value": " 80/80 [00:04&lt;00:00, 13.65 MiB/s]",
            "_view_count": null,
            "_view_module_version": "1.5.0",
            "description_tooltip": null,
            "_model_module": "@jupyter-widgets/controls",
            "layout": "IPY_MODEL_af2a0fc115964322844a15bb4a5d4627"
          }
        },
        "79604429c10e4765a7fc5ed881ccaf64": {
          "model_module": "@jupyter-widgets/controls",
          "model_name": "DescriptionStyleModel",
          "model_module_version": "1.5.0",
          "state": {
            "_view_name": "StyleView",
            "_model_name": "DescriptionStyleModel",
            "description_width": "",
            "_view_module": "@jupyter-widgets/base",
            "_model_module_version": "1.5.0",
            "_view_count": null,
            "_view_module_version": "1.2.0",
            "_model_module": "@jupyter-widgets/controls"
          }
        },
        "28c51d67001c4e739c56acf9ecaf5fc3": {
          "model_module": "@jupyter-widgets/base",
          "model_name": "LayoutModel",
          "model_module_version": "1.2.0",
          "state": {
            "_view_name": "LayoutView",
            "grid_template_rows": null,
            "right": null,
            "justify_content": null,
            "_view_module": "@jupyter-widgets/base",
            "overflow": null,
            "_model_module_version": "1.2.0",
            "_view_count": null,
            "flex_flow": null,
            "width": null,
            "min_width": null,
            "border": null,
            "align_items": null,
            "bottom": null,
            "_model_module": "@jupyter-widgets/base",
            "top": null,
            "grid_column": null,
            "overflow_y": null,
            "overflow_x": null,
            "grid_auto_flow": null,
            "grid_area": null,
            "grid_template_columns": null,
            "flex": null,
            "_model_name": "LayoutModel",
            "justify_items": null,
            "grid_row": null,
            "max_height": null,
            "align_content": null,
            "visibility": null,
            "align_self": null,
            "height": null,
            "min_height": null,
            "padding": null,
            "grid_auto_rows": null,
            "grid_gap": null,
            "max_width": null,
            "order": null,
            "_view_module_version": "1.2.0",
            "grid_template_areas": null,
            "object_position": null,
            "object_fit": null,
            "grid_auto_columns": null,
            "margin": null,
            "display": null,
            "left": null
          }
        },
        "a0ad5d843b434d8bb04854a39a3709c0": {
          "model_module": "@jupyter-widgets/controls",
          "model_name": "ProgressStyleModel",
          "model_module_version": "1.5.0",
          "state": {
            "_view_name": "StyleView",
            "_model_name": "ProgressStyleModel",
            "description_width": "",
            "_view_module": "@jupyter-widgets/base",
            "_model_module_version": "1.5.0",
            "_view_count": null,
            "_view_module_version": "1.2.0",
            "bar_color": null,
            "_model_module": "@jupyter-widgets/controls"
          }
        },
        "b22a14069e7c4a188913fbcf17596506": {
          "model_module": "@jupyter-widgets/base",
          "model_name": "LayoutModel",
          "model_module_version": "1.2.0",
          "state": {
            "_view_name": "LayoutView",
            "grid_template_rows": null,
            "right": null,
            "justify_content": null,
            "_view_module": "@jupyter-widgets/base",
            "overflow": null,
            "_model_module_version": "1.2.0",
            "_view_count": null,
            "flex_flow": null,
            "width": "20px",
            "min_width": null,
            "border": null,
            "align_items": null,
            "bottom": null,
            "_model_module": "@jupyter-widgets/base",
            "top": null,
            "grid_column": null,
            "overflow_y": null,
            "overflow_x": null,
            "grid_auto_flow": null,
            "grid_area": null,
            "grid_template_columns": null,
            "flex": null,
            "_model_name": "LayoutModel",
            "justify_items": null,
            "grid_row": null,
            "max_height": null,
            "align_content": null,
            "visibility": null,
            "align_self": null,
            "height": null,
            "min_height": null,
            "padding": null,
            "grid_auto_rows": null,
            "grid_gap": null,
            "max_width": null,
            "order": null,
            "_view_module_version": "1.2.0",
            "grid_template_areas": null,
            "object_position": null,
            "object_fit": null,
            "grid_auto_columns": null,
            "margin": null,
            "display": null,
            "left": null
          }
        },
        "eb26b28167264fe493afa60ff5e3a65a": {
          "model_module": "@jupyter-widgets/controls",
          "model_name": "DescriptionStyleModel",
          "model_module_version": "1.5.0",
          "state": {
            "_view_name": "StyleView",
            "_model_name": "DescriptionStyleModel",
            "description_width": "",
            "_view_module": "@jupyter-widgets/base",
            "_model_module_version": "1.5.0",
            "_view_count": null,
            "_view_module_version": "1.2.0",
            "_model_module": "@jupyter-widgets/controls"
          }
        },
        "af2a0fc115964322844a15bb4a5d4627": {
          "model_module": "@jupyter-widgets/base",
          "model_name": "LayoutModel",
          "model_module_version": "1.2.0",
          "state": {
            "_view_name": "LayoutView",
            "grid_template_rows": null,
            "right": null,
            "justify_content": null,
            "_view_module": "@jupyter-widgets/base",
            "overflow": null,
            "_model_module_version": "1.2.0",
            "_view_count": null,
            "flex_flow": null,
            "width": null,
            "min_width": null,
            "border": null,
            "align_items": null,
            "bottom": null,
            "_model_module": "@jupyter-widgets/base",
            "top": null,
            "grid_column": null,
            "overflow_y": null,
            "overflow_x": null,
            "grid_auto_flow": null,
            "grid_area": null,
            "grid_template_columns": null,
            "flex": null,
            "_model_name": "LayoutModel",
            "justify_items": null,
            "grid_row": null,
            "max_height": null,
            "align_content": null,
            "visibility": null,
            "align_self": null,
            "height": null,
            "min_height": null,
            "padding": null,
            "grid_auto_rows": null,
            "grid_gap": null,
            "max_width": null,
            "order": null,
            "_view_module_version": "1.2.0",
            "grid_template_areas": null,
            "object_position": null,
            "object_fit": null,
            "grid_auto_columns": null,
            "margin": null,
            "display": null,
            "left": null
          }
        },
        "2866e5765fe74e56a45c204966b8d4d5": {
          "model_module": "@jupyter-widgets/controls",
          "model_name": "HBoxModel",
          "model_module_version": "1.5.0",
          "state": {
            "_view_name": "HBoxView",
            "_dom_classes": [],
            "_model_name": "HBoxModel",
            "_view_module": "@jupyter-widgets/controls",
            "_model_module_version": "1.5.0",
            "_view_count": null,
            "_view_module_version": "1.5.0",
            "box_style": "",
            "layout": "IPY_MODEL_37b3223df48440d3b74f109ded5fe995",
            "_model_module": "@jupyter-widgets/controls",
            "children": [
              "IPY_MODEL_ac8d21ec07e54a59b30925b010ae49c6",
              "IPY_MODEL_2b70813c047e4c5a9b2887a3b21ffe5b",
              "IPY_MODEL_b78ae5dd0adb46b599e981a52d912071"
            ]
          }
        },
        "37b3223df48440d3b74f109ded5fe995": {
          "model_module": "@jupyter-widgets/base",
          "model_name": "LayoutModel",
          "model_module_version": "1.2.0",
          "state": {
            "_view_name": "LayoutView",
            "grid_template_rows": null,
            "right": null,
            "justify_content": null,
            "_view_module": "@jupyter-widgets/base",
            "overflow": null,
            "_model_module_version": "1.2.0",
            "_view_count": null,
            "flex_flow": null,
            "width": null,
            "min_width": null,
            "border": null,
            "align_items": null,
            "bottom": null,
            "_model_module": "@jupyter-widgets/base",
            "top": null,
            "grid_column": null,
            "overflow_y": null,
            "overflow_x": null,
            "grid_auto_flow": null,
            "grid_area": null,
            "grid_template_columns": null,
            "flex": null,
            "_model_name": "LayoutModel",
            "justify_items": null,
            "grid_row": null,
            "max_height": null,
            "align_content": null,
            "visibility": null,
            "align_self": null,
            "height": null,
            "min_height": null,
            "padding": null,
            "grid_auto_rows": null,
            "grid_gap": null,
            "max_width": null,
            "order": null,
            "_view_module_version": "1.2.0",
            "grid_template_areas": null,
            "object_position": null,
            "object_fit": null,
            "grid_auto_columns": null,
            "margin": null,
            "display": null,
            "left": null
          }
        },
        "ac8d21ec07e54a59b30925b010ae49c6": {
          "model_module": "@jupyter-widgets/controls",
          "model_name": "HTMLModel",
          "model_module_version": "1.5.0",
          "state": {
            "_view_name": "HTMLView",
            "style": "IPY_MODEL_2d9d932b818541938cdf3b2d38e8f835",
            "_dom_classes": [],
            "description": "",
            "_model_name": "HTMLModel",
            "placeholder": "​",
            "_view_module": "@jupyter-widgets/controls",
            "_model_module_version": "1.5.0",
            "value": "",
            "_view_count": null,
            "_view_module_version": "1.5.0",
            "description_tooltip": null,
            "_model_module": "@jupyter-widgets/controls",
            "layout": "IPY_MODEL_e1634657f1064d3784cf34acd9c11861"
          }
        },
        "2b70813c047e4c5a9b2887a3b21ffe5b": {
          "model_module": "@jupyter-widgets/controls",
          "model_name": "FloatProgressModel",
          "model_module_version": "1.5.0",
          "state": {
            "_view_name": "ProgressView",
            "style": "IPY_MODEL_cc882aaccdde4b92990fdcd9df34ddc9",
            "_dom_classes": [],
            "description": "",
            "_model_name": "FloatProgressModel",
            "bar_style": "info",
            "max": 1,
            "_view_module": "@jupyter-widgets/controls",
            "_model_module_version": "1.5.0",
            "value": 1,
            "_view_count": null,
            "_view_module_version": "1.5.0",
            "orientation": "horizontal",
            "min": 0,
            "description_tooltip": null,
            "_model_module": "@jupyter-widgets/controls",
            "layout": "IPY_MODEL_191e957b0f0747ad94a3e24421ee64fd"
          }
        },
        "b78ae5dd0adb46b599e981a52d912071": {
          "model_module": "@jupyter-widgets/controls",
          "model_name": "HTMLModel",
          "model_module_version": "1.5.0",
          "state": {
            "_view_name": "HTMLView",
            "style": "IPY_MODEL_8303050b25534007bf7875e6671d1e65",
            "_dom_classes": [],
            "description": "",
            "_model_name": "HTMLModel",
            "placeholder": "​",
            "_view_module": "@jupyter-widgets/controls",
            "_model_module_version": "1.5.0",
            "value": " 24970/0 [00:14&lt;00:00, 2253.78 examples/s]",
            "_view_count": null,
            "_view_module_version": "1.5.0",
            "description_tooltip": null,
            "_model_module": "@jupyter-widgets/controls",
            "layout": "IPY_MODEL_fa3e09a0585d48218f803ddf91727776"
          }
        },
        "2d9d932b818541938cdf3b2d38e8f835": {
          "model_module": "@jupyter-widgets/controls",
          "model_name": "DescriptionStyleModel",
          "model_module_version": "1.5.0",
          "state": {
            "_view_name": "StyleView",
            "_model_name": "DescriptionStyleModel",
            "description_width": "",
            "_view_module": "@jupyter-widgets/base",
            "_model_module_version": "1.5.0",
            "_view_count": null,
            "_view_module_version": "1.2.0",
            "_model_module": "@jupyter-widgets/controls"
          }
        },
        "e1634657f1064d3784cf34acd9c11861": {
          "model_module": "@jupyter-widgets/base",
          "model_name": "LayoutModel",
          "model_module_version": "1.2.0",
          "state": {
            "_view_name": "LayoutView",
            "grid_template_rows": null,
            "right": null,
            "justify_content": null,
            "_view_module": "@jupyter-widgets/base",
            "overflow": null,
            "_model_module_version": "1.2.0",
            "_view_count": null,
            "flex_flow": null,
            "width": null,
            "min_width": null,
            "border": null,
            "align_items": null,
            "bottom": null,
            "_model_module": "@jupyter-widgets/base",
            "top": null,
            "grid_column": null,
            "overflow_y": null,
            "overflow_x": null,
            "grid_auto_flow": null,
            "grid_area": null,
            "grid_template_columns": null,
            "flex": null,
            "_model_name": "LayoutModel",
            "justify_items": null,
            "grid_row": null,
            "max_height": null,
            "align_content": null,
            "visibility": null,
            "align_self": null,
            "height": null,
            "min_height": null,
            "padding": null,
            "grid_auto_rows": null,
            "grid_gap": null,
            "max_width": null,
            "order": null,
            "_view_module_version": "1.2.0",
            "grid_template_areas": null,
            "object_position": null,
            "object_fit": null,
            "grid_auto_columns": null,
            "margin": null,
            "display": null,
            "left": null
          }
        },
        "cc882aaccdde4b92990fdcd9df34ddc9": {
          "model_module": "@jupyter-widgets/controls",
          "model_name": "ProgressStyleModel",
          "model_module_version": "1.5.0",
          "state": {
            "_view_name": "StyleView",
            "_model_name": "ProgressStyleModel",
            "description_width": "",
            "_view_module": "@jupyter-widgets/base",
            "_model_module_version": "1.5.0",
            "_view_count": null,
            "_view_module_version": "1.2.0",
            "bar_color": null,
            "_model_module": "@jupyter-widgets/controls"
          }
        },
        "191e957b0f0747ad94a3e24421ee64fd": {
          "model_module": "@jupyter-widgets/base",
          "model_name": "LayoutModel",
          "model_module_version": "1.2.0",
          "state": {
            "_view_name": "LayoutView",
            "grid_template_rows": null,
            "right": null,
            "justify_content": null,
            "_view_module": "@jupyter-widgets/base",
            "overflow": null,
            "_model_module_version": "1.2.0",
            "_view_count": null,
            "flex_flow": null,
            "width": "20px",
            "min_width": null,
            "border": null,
            "align_items": null,
            "bottom": null,
            "_model_module": "@jupyter-widgets/base",
            "top": null,
            "grid_column": null,
            "overflow_y": null,
            "overflow_x": null,
            "grid_auto_flow": null,
            "grid_area": null,
            "grid_template_columns": null,
            "flex": null,
            "_model_name": "LayoutModel",
            "justify_items": null,
            "grid_row": null,
            "max_height": null,
            "align_content": null,
            "visibility": null,
            "align_self": null,
            "height": null,
            "min_height": null,
            "padding": null,
            "grid_auto_rows": null,
            "grid_gap": null,
            "max_width": null,
            "order": null,
            "_view_module_version": "1.2.0",
            "grid_template_areas": null,
            "object_position": null,
            "object_fit": null,
            "grid_auto_columns": null,
            "margin": null,
            "display": null,
            "left": null
          }
        },
        "8303050b25534007bf7875e6671d1e65": {
          "model_module": "@jupyter-widgets/controls",
          "model_name": "DescriptionStyleModel",
          "model_module_version": "1.5.0",
          "state": {
            "_view_name": "StyleView",
            "_model_name": "DescriptionStyleModel",
            "description_width": "",
            "_view_module": "@jupyter-widgets/base",
            "_model_module_version": "1.5.0",
            "_view_count": null,
            "_view_module_version": "1.2.0",
            "_model_module": "@jupyter-widgets/controls"
          }
        },
        "fa3e09a0585d48218f803ddf91727776": {
          "model_module": "@jupyter-widgets/base",
          "model_name": "LayoutModel",
          "model_module_version": "1.2.0",
          "state": {
            "_view_name": "LayoutView",
            "grid_template_rows": null,
            "right": null,
            "justify_content": null,
            "_view_module": "@jupyter-widgets/base",
            "overflow": null,
            "_model_module_version": "1.2.0",
            "_view_count": null,
            "flex_flow": null,
            "width": null,
            "min_width": null,
            "border": null,
            "align_items": null,
            "bottom": null,
            "_model_module": "@jupyter-widgets/base",
            "top": null,
            "grid_column": null,
            "overflow_y": null,
            "overflow_x": null,
            "grid_auto_flow": null,
            "grid_area": null,
            "grid_template_columns": null,
            "flex": null,
            "_model_name": "LayoutModel",
            "justify_items": null,
            "grid_row": null,
            "max_height": null,
            "align_content": null,
            "visibility": null,
            "align_self": null,
            "height": null,
            "min_height": null,
            "padding": null,
            "grid_auto_rows": null,
            "grid_gap": null,
            "max_width": null,
            "order": null,
            "_view_module_version": "1.2.0",
            "grid_template_areas": null,
            "object_position": null,
            "object_fit": null,
            "grid_auto_columns": null,
            "margin": null,
            "display": null,
            "left": null
          }
        },
        "974e9a91de5a4b7781b747c1f5e81deb": {
          "model_module": "@jupyter-widgets/controls",
          "model_name": "HBoxModel",
          "model_module_version": "1.5.0",
          "state": {
            "_view_name": "HBoxView",
            "_dom_classes": [],
            "_model_name": "HBoxModel",
            "_view_module": "@jupyter-widgets/controls",
            "_model_module_version": "1.5.0",
            "_view_count": null,
            "_view_module_version": "1.5.0",
            "box_style": "",
            "layout": "IPY_MODEL_355a5449a2a74b4fbab1e10b8b88548f",
            "_model_module": "@jupyter-widgets/controls",
            "children": [
              "IPY_MODEL_5759abcc3cfa48869910156b25a7296d",
              "IPY_MODEL_0565f06d557f46bda0f1c7c24ce34d71",
              "IPY_MODEL_b898c9788fb74f2aacc4bc595a2649e1"
            ]
          }
        },
        "355a5449a2a74b4fbab1e10b8b88548f": {
          "model_module": "@jupyter-widgets/base",
          "model_name": "LayoutModel",
          "model_module_version": "1.2.0",
          "state": {
            "_view_name": "LayoutView",
            "grid_template_rows": null,
            "right": null,
            "justify_content": null,
            "_view_module": "@jupyter-widgets/base",
            "overflow": null,
            "_model_module_version": "1.2.0",
            "_view_count": null,
            "flex_flow": null,
            "width": null,
            "min_width": null,
            "border": null,
            "align_items": null,
            "bottom": null,
            "_model_module": "@jupyter-widgets/base",
            "top": null,
            "grid_column": null,
            "overflow_y": null,
            "overflow_x": null,
            "grid_auto_flow": null,
            "grid_area": null,
            "grid_template_columns": null,
            "flex": null,
            "_model_name": "LayoutModel",
            "justify_items": null,
            "grid_row": null,
            "max_height": null,
            "align_content": null,
            "visibility": null,
            "align_self": null,
            "height": null,
            "min_height": null,
            "padding": null,
            "grid_auto_rows": null,
            "grid_gap": null,
            "max_width": null,
            "order": null,
            "_view_module_version": "1.2.0",
            "grid_template_areas": null,
            "object_position": null,
            "object_fit": null,
            "grid_auto_columns": null,
            "margin": null,
            "display": null,
            "left": null
          }
        },
        "5759abcc3cfa48869910156b25a7296d": {
          "model_module": "@jupyter-widgets/controls",
          "model_name": "HTMLModel",
          "model_module_version": "1.5.0",
          "state": {
            "_view_name": "HTMLView",
            "style": "IPY_MODEL_8e104e1cdd9c4f7baa79468a54285e0e",
            "_dom_classes": [],
            "description": "",
            "_model_name": "HTMLModel",
            "placeholder": "​",
            "_view_module": "@jupyter-widgets/controls",
            "_model_module_version": "1.5.0",
            "value": "100%",
            "_view_count": null,
            "_view_module_version": "1.5.0",
            "description_tooltip": null,
            "_model_module": "@jupyter-widgets/controls",
            "layout": "IPY_MODEL_7ee5929eb3e047c6ad7b98d876eb2f57"
          }
        },
        "0565f06d557f46bda0f1c7c24ce34d71": {
          "model_module": "@jupyter-widgets/controls",
          "model_name": "FloatProgressModel",
          "model_module_version": "1.5.0",
          "state": {
            "_view_name": "ProgressView",
            "style": "IPY_MODEL_3a4dee2078c14988a99452b00728f875",
            "_dom_classes": [],
            "description": "",
            "_model_name": "FloatProgressModel",
            "bar_style": "danger",
            "max": 25000,
            "_view_module": "@jupyter-widgets/controls",
            "_model_module_version": "1.5.0",
            "value": 24999,
            "_view_count": null,
            "_view_module_version": "1.5.0",
            "orientation": "horizontal",
            "min": 0,
            "description_tooltip": null,
            "_model_module": "@jupyter-widgets/controls",
            "layout": "IPY_MODEL_27879c25b4774e628d6d28b0e7464929"
          }
        },
        "b898c9788fb74f2aacc4bc595a2649e1": {
          "model_module": "@jupyter-widgets/controls",
          "model_name": "HTMLModel",
          "model_module_version": "1.5.0",
          "state": {
            "_view_name": "HTMLView",
            "style": "IPY_MODEL_f40cc881f4134a1e8e983d45f1b64548",
            "_dom_classes": [],
            "description": "",
            "_model_name": "HTMLModel",
            "placeholder": "​",
            "_view_module": "@jupyter-widgets/controls",
            "_model_module_version": "1.5.0",
            "value": " 24999/25000 [00:00&lt;00:00, 101723.15 examples/s]",
            "_view_count": null,
            "_view_module_version": "1.5.0",
            "description_tooltip": null,
            "_model_module": "@jupyter-widgets/controls",
            "layout": "IPY_MODEL_6c93b23d387b483b88c8887f15405fb6"
          }
        },
        "8e104e1cdd9c4f7baa79468a54285e0e": {
          "model_module": "@jupyter-widgets/controls",
          "model_name": "DescriptionStyleModel",
          "model_module_version": "1.5.0",
          "state": {
            "_view_name": "StyleView",
            "_model_name": "DescriptionStyleModel",
            "description_width": "",
            "_view_module": "@jupyter-widgets/base",
            "_model_module_version": "1.5.0",
            "_view_count": null,
            "_view_module_version": "1.2.0",
            "_model_module": "@jupyter-widgets/controls"
          }
        },
        "7ee5929eb3e047c6ad7b98d876eb2f57": {
          "model_module": "@jupyter-widgets/base",
          "model_name": "LayoutModel",
          "model_module_version": "1.2.0",
          "state": {
            "_view_name": "LayoutView",
            "grid_template_rows": null,
            "right": null,
            "justify_content": null,
            "_view_module": "@jupyter-widgets/base",
            "overflow": null,
            "_model_module_version": "1.2.0",
            "_view_count": null,
            "flex_flow": null,
            "width": null,
            "min_width": null,
            "border": null,
            "align_items": null,
            "bottom": null,
            "_model_module": "@jupyter-widgets/base",
            "top": null,
            "grid_column": null,
            "overflow_y": null,
            "overflow_x": null,
            "grid_auto_flow": null,
            "grid_area": null,
            "grid_template_columns": null,
            "flex": null,
            "_model_name": "LayoutModel",
            "justify_items": null,
            "grid_row": null,
            "max_height": null,
            "align_content": null,
            "visibility": null,
            "align_self": null,
            "height": null,
            "min_height": null,
            "padding": null,
            "grid_auto_rows": null,
            "grid_gap": null,
            "max_width": null,
            "order": null,
            "_view_module_version": "1.2.0",
            "grid_template_areas": null,
            "object_position": null,
            "object_fit": null,
            "grid_auto_columns": null,
            "margin": null,
            "display": null,
            "left": null
          }
        },
        "3a4dee2078c14988a99452b00728f875": {
          "model_module": "@jupyter-widgets/controls",
          "model_name": "ProgressStyleModel",
          "model_module_version": "1.5.0",
          "state": {
            "_view_name": "StyleView",
            "_model_name": "ProgressStyleModel",
            "description_width": "",
            "_view_module": "@jupyter-widgets/base",
            "_model_module_version": "1.5.0",
            "_view_count": null,
            "_view_module_version": "1.2.0",
            "bar_color": null,
            "_model_module": "@jupyter-widgets/controls"
          }
        },
        "27879c25b4774e628d6d28b0e7464929": {
          "model_module": "@jupyter-widgets/base",
          "model_name": "LayoutModel",
          "model_module_version": "1.2.0",
          "state": {
            "_view_name": "LayoutView",
            "grid_template_rows": null,
            "right": null,
            "justify_content": null,
            "_view_module": "@jupyter-widgets/base",
            "overflow": null,
            "_model_module_version": "1.2.0",
            "_view_count": null,
            "flex_flow": null,
            "width": null,
            "min_width": null,
            "border": null,
            "align_items": null,
            "bottom": null,
            "_model_module": "@jupyter-widgets/base",
            "top": null,
            "grid_column": null,
            "overflow_y": null,
            "overflow_x": null,
            "grid_auto_flow": null,
            "grid_area": null,
            "grid_template_columns": null,
            "flex": null,
            "_model_name": "LayoutModel",
            "justify_items": null,
            "grid_row": null,
            "max_height": null,
            "align_content": null,
            "visibility": null,
            "align_self": null,
            "height": null,
            "min_height": null,
            "padding": null,
            "grid_auto_rows": null,
            "grid_gap": null,
            "max_width": null,
            "order": null,
            "_view_module_version": "1.2.0",
            "grid_template_areas": null,
            "object_position": null,
            "object_fit": null,
            "grid_auto_columns": null,
            "margin": null,
            "display": null,
            "left": null
          }
        },
        "f40cc881f4134a1e8e983d45f1b64548": {
          "model_module": "@jupyter-widgets/controls",
          "model_name": "DescriptionStyleModel",
          "model_module_version": "1.5.0",
          "state": {
            "_view_name": "StyleView",
            "_model_name": "DescriptionStyleModel",
            "description_width": "",
            "_view_module": "@jupyter-widgets/base",
            "_model_module_version": "1.5.0",
            "_view_count": null,
            "_view_module_version": "1.2.0",
            "_model_module": "@jupyter-widgets/controls"
          }
        },
        "6c93b23d387b483b88c8887f15405fb6": {
          "model_module": "@jupyter-widgets/base",
          "model_name": "LayoutModel",
          "model_module_version": "1.2.0",
          "state": {
            "_view_name": "LayoutView",
            "grid_template_rows": null,
            "right": null,
            "justify_content": null,
            "_view_module": "@jupyter-widgets/base",
            "overflow": null,
            "_model_module_version": "1.2.0",
            "_view_count": null,
            "flex_flow": null,
            "width": null,
            "min_width": null,
            "border": null,
            "align_items": null,
            "bottom": null,
            "_model_module": "@jupyter-widgets/base",
            "top": null,
            "grid_column": null,
            "overflow_y": null,
            "overflow_x": null,
            "grid_auto_flow": null,
            "grid_area": null,
            "grid_template_columns": null,
            "flex": null,
            "_model_name": "LayoutModel",
            "justify_items": null,
            "grid_row": null,
            "max_height": null,
            "align_content": null,
            "visibility": null,
            "align_self": null,
            "height": null,
            "min_height": null,
            "padding": null,
            "grid_auto_rows": null,
            "grid_gap": null,
            "max_width": null,
            "order": null,
            "_view_module_version": "1.2.0",
            "grid_template_areas": null,
            "object_position": null,
            "object_fit": null,
            "grid_auto_columns": null,
            "margin": null,
            "display": null,
            "left": null
          }
        },
        "d14ce423a718442f9769524baedbe9a6": {
          "model_module": "@jupyter-widgets/controls",
          "model_name": "HBoxModel",
          "model_module_version": "1.5.0",
          "state": {
            "_view_name": "HBoxView",
            "_dom_classes": [],
            "_model_name": "HBoxModel",
            "_view_module": "@jupyter-widgets/controls",
            "_model_module_version": "1.5.0",
            "_view_count": null,
            "_view_module_version": "1.5.0",
            "box_style": "",
            "layout": "IPY_MODEL_a26b463e3c974ec5ac46240ed7007382",
            "_model_module": "@jupyter-widgets/controls",
            "children": [
              "IPY_MODEL_9873bfddba504f60bb9e9e050b008548",
              "IPY_MODEL_b58c78182b3b48c58181ef7338d84a6a",
              "IPY_MODEL_421d7e029fa94dc09122f5574cc24559"
            ]
          }
        },
        "a26b463e3c974ec5ac46240ed7007382": {
          "model_module": "@jupyter-widgets/base",
          "model_name": "LayoutModel",
          "model_module_version": "1.2.0",
          "state": {
            "_view_name": "LayoutView",
            "grid_template_rows": null,
            "right": null,
            "justify_content": null,
            "_view_module": "@jupyter-widgets/base",
            "overflow": null,
            "_model_module_version": "1.2.0",
            "_view_count": null,
            "flex_flow": null,
            "width": null,
            "min_width": null,
            "border": null,
            "align_items": null,
            "bottom": null,
            "_model_module": "@jupyter-widgets/base",
            "top": null,
            "grid_column": null,
            "overflow_y": null,
            "overflow_x": null,
            "grid_auto_flow": null,
            "grid_area": null,
            "grid_template_columns": null,
            "flex": null,
            "_model_name": "LayoutModel",
            "justify_items": null,
            "grid_row": null,
            "max_height": null,
            "align_content": null,
            "visibility": null,
            "align_self": null,
            "height": null,
            "min_height": null,
            "padding": null,
            "grid_auto_rows": null,
            "grid_gap": null,
            "max_width": null,
            "order": null,
            "_view_module_version": "1.2.0",
            "grid_template_areas": null,
            "object_position": null,
            "object_fit": null,
            "grid_auto_columns": null,
            "margin": null,
            "display": null,
            "left": null
          }
        },
        "9873bfddba504f60bb9e9e050b008548": {
          "model_module": "@jupyter-widgets/controls",
          "model_name": "HTMLModel",
          "model_module_version": "1.5.0",
          "state": {
            "_view_name": "HTMLView",
            "style": "IPY_MODEL_5290c7d794e04ac58dc431de57a90ad0",
            "_dom_classes": [],
            "description": "",
            "_model_name": "HTMLModel",
            "placeholder": "​",
            "_view_module": "@jupyter-widgets/controls",
            "_model_module_version": "1.5.0",
            "value": "",
            "_view_count": null,
            "_view_module_version": "1.5.0",
            "description_tooltip": null,
            "_model_module": "@jupyter-widgets/controls",
            "layout": "IPY_MODEL_2942bb4747b24e39bc9e953a98b1c3fd"
          }
        },
        "b58c78182b3b48c58181ef7338d84a6a": {
          "model_module": "@jupyter-widgets/controls",
          "model_name": "FloatProgressModel",
          "model_module_version": "1.5.0",
          "state": {
            "_view_name": "ProgressView",
            "style": "IPY_MODEL_a569284ed63042c496ceb610e9ac9dfd",
            "_dom_classes": [],
            "description": "",
            "_model_name": "FloatProgressModel",
            "bar_style": "info",
            "max": 1,
            "_view_module": "@jupyter-widgets/controls",
            "_model_module_version": "1.5.0",
            "value": 1,
            "_view_count": null,
            "_view_module_version": "1.5.0",
            "orientation": "horizontal",
            "min": 0,
            "description_tooltip": null,
            "_model_module": "@jupyter-widgets/controls",
            "layout": "IPY_MODEL_9eb506f027444bc8a62bbc0fa9abae13"
          }
        },
        "421d7e029fa94dc09122f5574cc24559": {
          "model_module": "@jupyter-widgets/controls",
          "model_name": "HTMLModel",
          "model_module_version": "1.5.0",
          "state": {
            "_view_name": "HTMLView",
            "style": "IPY_MODEL_0d6e1fc87ab94189b147051ec688763f",
            "_dom_classes": [],
            "description": "",
            "_model_name": "HTMLModel",
            "placeholder": "​",
            "_view_module": "@jupyter-widgets/controls",
            "_model_module_version": "1.5.0",
            "value": " 24891/0 [00:11&lt;00:00, 2371.73 examples/s]",
            "_view_count": null,
            "_view_module_version": "1.5.0",
            "description_tooltip": null,
            "_model_module": "@jupyter-widgets/controls",
            "layout": "IPY_MODEL_bebbacf668c14ee9bd1efb1a1a532599"
          }
        },
        "5290c7d794e04ac58dc431de57a90ad0": {
          "model_module": "@jupyter-widgets/controls",
          "model_name": "DescriptionStyleModel",
          "model_module_version": "1.5.0",
          "state": {
            "_view_name": "StyleView",
            "_model_name": "DescriptionStyleModel",
            "description_width": "",
            "_view_module": "@jupyter-widgets/base",
            "_model_module_version": "1.5.0",
            "_view_count": null,
            "_view_module_version": "1.2.0",
            "_model_module": "@jupyter-widgets/controls"
          }
        },
        "2942bb4747b24e39bc9e953a98b1c3fd": {
          "model_module": "@jupyter-widgets/base",
          "model_name": "LayoutModel",
          "model_module_version": "1.2.0",
          "state": {
            "_view_name": "LayoutView",
            "grid_template_rows": null,
            "right": null,
            "justify_content": null,
            "_view_module": "@jupyter-widgets/base",
            "overflow": null,
            "_model_module_version": "1.2.0",
            "_view_count": null,
            "flex_flow": null,
            "width": null,
            "min_width": null,
            "border": null,
            "align_items": null,
            "bottom": null,
            "_model_module": "@jupyter-widgets/base",
            "top": null,
            "grid_column": null,
            "overflow_y": null,
            "overflow_x": null,
            "grid_auto_flow": null,
            "grid_area": null,
            "grid_template_columns": null,
            "flex": null,
            "_model_name": "LayoutModel",
            "justify_items": null,
            "grid_row": null,
            "max_height": null,
            "align_content": null,
            "visibility": null,
            "align_self": null,
            "height": null,
            "min_height": null,
            "padding": null,
            "grid_auto_rows": null,
            "grid_gap": null,
            "max_width": null,
            "order": null,
            "_view_module_version": "1.2.0",
            "grid_template_areas": null,
            "object_position": null,
            "object_fit": null,
            "grid_auto_columns": null,
            "margin": null,
            "display": null,
            "left": null
          }
        },
        "a569284ed63042c496ceb610e9ac9dfd": {
          "model_module": "@jupyter-widgets/controls",
          "model_name": "ProgressStyleModel",
          "model_module_version": "1.5.0",
          "state": {
            "_view_name": "StyleView",
            "_model_name": "ProgressStyleModel",
            "description_width": "",
            "_view_module": "@jupyter-widgets/base",
            "_model_module_version": "1.5.0",
            "_view_count": null,
            "_view_module_version": "1.2.0",
            "bar_color": null,
            "_model_module": "@jupyter-widgets/controls"
          }
        },
        "9eb506f027444bc8a62bbc0fa9abae13": {
          "model_module": "@jupyter-widgets/base",
          "model_name": "LayoutModel",
          "model_module_version": "1.2.0",
          "state": {
            "_view_name": "LayoutView",
            "grid_template_rows": null,
            "right": null,
            "justify_content": null,
            "_view_module": "@jupyter-widgets/base",
            "overflow": null,
            "_model_module_version": "1.2.0",
            "_view_count": null,
            "flex_flow": null,
            "width": "20px",
            "min_width": null,
            "border": null,
            "align_items": null,
            "bottom": null,
            "_model_module": "@jupyter-widgets/base",
            "top": null,
            "grid_column": null,
            "overflow_y": null,
            "overflow_x": null,
            "grid_auto_flow": null,
            "grid_area": null,
            "grid_template_columns": null,
            "flex": null,
            "_model_name": "LayoutModel",
            "justify_items": null,
            "grid_row": null,
            "max_height": null,
            "align_content": null,
            "visibility": null,
            "align_self": null,
            "height": null,
            "min_height": null,
            "padding": null,
            "grid_auto_rows": null,
            "grid_gap": null,
            "max_width": null,
            "order": null,
            "_view_module_version": "1.2.0",
            "grid_template_areas": null,
            "object_position": null,
            "object_fit": null,
            "grid_auto_columns": null,
            "margin": null,
            "display": null,
            "left": null
          }
        },
        "0d6e1fc87ab94189b147051ec688763f": {
          "model_module": "@jupyter-widgets/controls",
          "model_name": "DescriptionStyleModel",
          "model_module_version": "1.5.0",
          "state": {
            "_view_name": "StyleView",
            "_model_name": "DescriptionStyleModel",
            "description_width": "",
            "_view_module": "@jupyter-widgets/base",
            "_model_module_version": "1.5.0",
            "_view_count": null,
            "_view_module_version": "1.2.0",
            "_model_module": "@jupyter-widgets/controls"
          }
        },
        "bebbacf668c14ee9bd1efb1a1a532599": {
          "model_module": "@jupyter-widgets/base",
          "model_name": "LayoutModel",
          "model_module_version": "1.2.0",
          "state": {
            "_view_name": "LayoutView",
            "grid_template_rows": null,
            "right": null,
            "justify_content": null,
            "_view_module": "@jupyter-widgets/base",
            "overflow": null,
            "_model_module_version": "1.2.0",
            "_view_count": null,
            "flex_flow": null,
            "width": null,
            "min_width": null,
            "border": null,
            "align_items": null,
            "bottom": null,
            "_model_module": "@jupyter-widgets/base",
            "top": null,
            "grid_column": null,
            "overflow_y": null,
            "overflow_x": null,
            "grid_auto_flow": null,
            "grid_area": null,
            "grid_template_columns": null,
            "flex": null,
            "_model_name": "LayoutModel",
            "justify_items": null,
            "grid_row": null,
            "max_height": null,
            "align_content": null,
            "visibility": null,
            "align_self": null,
            "height": null,
            "min_height": null,
            "padding": null,
            "grid_auto_rows": null,
            "grid_gap": null,
            "max_width": null,
            "order": null,
            "_view_module_version": "1.2.0",
            "grid_template_areas": null,
            "object_position": null,
            "object_fit": null,
            "grid_auto_columns": null,
            "margin": null,
            "display": null,
            "left": null
          }
        },
        "f784d174f4214b53b705784a47939ee0": {
          "model_module": "@jupyter-widgets/controls",
          "model_name": "HBoxModel",
          "model_module_version": "1.5.0",
          "state": {
            "_view_name": "HBoxView",
            "_dom_classes": [],
            "_model_name": "HBoxModel",
            "_view_module": "@jupyter-widgets/controls",
            "_model_module_version": "1.5.0",
            "_view_count": null,
            "_view_module_version": "1.5.0",
            "box_style": "",
            "layout": "IPY_MODEL_670f720b59b24bf6a23f9b66d807a7f2",
            "_model_module": "@jupyter-widgets/controls",
            "children": [
              "IPY_MODEL_1ad7dd2964d0436f89682333d87b3390",
              "IPY_MODEL_77ae9f04bfdd4f4696f719ee833232f4",
              "IPY_MODEL_e8c3a11cdae84947a03d27f8e6dd7e42"
            ]
          }
        },
        "670f720b59b24bf6a23f9b66d807a7f2": {
          "model_module": "@jupyter-widgets/base",
          "model_name": "LayoutModel",
          "model_module_version": "1.2.0",
          "state": {
            "_view_name": "LayoutView",
            "grid_template_rows": null,
            "right": null,
            "justify_content": null,
            "_view_module": "@jupyter-widgets/base",
            "overflow": null,
            "_model_module_version": "1.2.0",
            "_view_count": null,
            "flex_flow": null,
            "width": null,
            "min_width": null,
            "border": null,
            "align_items": null,
            "bottom": null,
            "_model_module": "@jupyter-widgets/base",
            "top": null,
            "grid_column": null,
            "overflow_y": null,
            "overflow_x": null,
            "grid_auto_flow": null,
            "grid_area": null,
            "grid_template_columns": null,
            "flex": null,
            "_model_name": "LayoutModel",
            "justify_items": null,
            "grid_row": null,
            "max_height": null,
            "align_content": null,
            "visibility": null,
            "align_self": null,
            "height": null,
            "min_height": null,
            "padding": null,
            "grid_auto_rows": null,
            "grid_gap": null,
            "max_width": null,
            "order": null,
            "_view_module_version": "1.2.0",
            "grid_template_areas": null,
            "object_position": null,
            "object_fit": null,
            "grid_auto_columns": null,
            "margin": null,
            "display": null,
            "left": null
          }
        },
        "1ad7dd2964d0436f89682333d87b3390": {
          "model_module": "@jupyter-widgets/controls",
          "model_name": "HTMLModel",
          "model_module_version": "1.5.0",
          "state": {
            "_view_name": "HTMLView",
            "style": "IPY_MODEL_ba64791835ea4960afa91cb87a6be8ef",
            "_dom_classes": [],
            "description": "",
            "_model_name": "HTMLModel",
            "placeholder": "​",
            "_view_module": "@jupyter-widgets/controls",
            "_model_module_version": "1.5.0",
            "value": "100%",
            "_view_count": null,
            "_view_module_version": "1.5.0",
            "description_tooltip": null,
            "_model_module": "@jupyter-widgets/controls",
            "layout": "IPY_MODEL_745b0e596e7d4a21810b7f3bc0fb0ace"
          }
        },
        "77ae9f04bfdd4f4696f719ee833232f4": {
          "model_module": "@jupyter-widgets/controls",
          "model_name": "FloatProgressModel",
          "model_module_version": "1.5.0",
          "state": {
            "_view_name": "ProgressView",
            "style": "IPY_MODEL_a4e6dc1a37f449ef9134b1580433fb57",
            "_dom_classes": [],
            "description": "",
            "_model_name": "FloatProgressModel",
            "bar_style": "danger",
            "max": 25000,
            "_view_module": "@jupyter-widgets/controls",
            "_model_module_version": "1.5.0",
            "value": 24999,
            "_view_count": null,
            "_view_module_version": "1.5.0",
            "orientation": "horizontal",
            "min": 0,
            "description_tooltip": null,
            "_model_module": "@jupyter-widgets/controls",
            "layout": "IPY_MODEL_bcc7240e76864e9c94e6087d25aecca6"
          }
        },
        "e8c3a11cdae84947a03d27f8e6dd7e42": {
          "model_module": "@jupyter-widgets/controls",
          "model_name": "HTMLModel",
          "model_module_version": "1.5.0",
          "state": {
            "_view_name": "HTMLView",
            "style": "IPY_MODEL_a3dbe32fdde3468c84e1a62ad4f65695",
            "_dom_classes": [],
            "description": "",
            "_model_name": "HTMLModel",
            "placeholder": "​",
            "_view_module": "@jupyter-widgets/controls",
            "_model_module_version": "1.5.0",
            "value": " 24999/25000 [00:00&lt;00:00, 105113.31 examples/s]",
            "_view_count": null,
            "_view_module_version": "1.5.0",
            "description_tooltip": null,
            "_model_module": "@jupyter-widgets/controls",
            "layout": "IPY_MODEL_f5fff776a54c4c7ebebdb170d709fb54"
          }
        },
        "ba64791835ea4960afa91cb87a6be8ef": {
          "model_module": "@jupyter-widgets/controls",
          "model_name": "DescriptionStyleModel",
          "model_module_version": "1.5.0",
          "state": {
            "_view_name": "StyleView",
            "_model_name": "DescriptionStyleModel",
            "description_width": "",
            "_view_module": "@jupyter-widgets/base",
            "_model_module_version": "1.5.0",
            "_view_count": null,
            "_view_module_version": "1.2.0",
            "_model_module": "@jupyter-widgets/controls"
          }
        },
        "745b0e596e7d4a21810b7f3bc0fb0ace": {
          "model_module": "@jupyter-widgets/base",
          "model_name": "LayoutModel",
          "model_module_version": "1.2.0",
          "state": {
            "_view_name": "LayoutView",
            "grid_template_rows": null,
            "right": null,
            "justify_content": null,
            "_view_module": "@jupyter-widgets/base",
            "overflow": null,
            "_model_module_version": "1.2.0",
            "_view_count": null,
            "flex_flow": null,
            "width": null,
            "min_width": null,
            "border": null,
            "align_items": null,
            "bottom": null,
            "_model_module": "@jupyter-widgets/base",
            "top": null,
            "grid_column": null,
            "overflow_y": null,
            "overflow_x": null,
            "grid_auto_flow": null,
            "grid_area": null,
            "grid_template_columns": null,
            "flex": null,
            "_model_name": "LayoutModel",
            "justify_items": null,
            "grid_row": null,
            "max_height": null,
            "align_content": null,
            "visibility": null,
            "align_self": null,
            "height": null,
            "min_height": null,
            "padding": null,
            "grid_auto_rows": null,
            "grid_gap": null,
            "max_width": null,
            "order": null,
            "_view_module_version": "1.2.0",
            "grid_template_areas": null,
            "object_position": null,
            "object_fit": null,
            "grid_auto_columns": null,
            "margin": null,
            "display": null,
            "left": null
          }
        },
        "a4e6dc1a37f449ef9134b1580433fb57": {
          "model_module": "@jupyter-widgets/controls",
          "model_name": "ProgressStyleModel",
          "model_module_version": "1.5.0",
          "state": {
            "_view_name": "StyleView",
            "_model_name": "ProgressStyleModel",
            "description_width": "",
            "_view_module": "@jupyter-widgets/base",
            "_model_module_version": "1.5.0",
            "_view_count": null,
            "_view_module_version": "1.2.0",
            "bar_color": null,
            "_model_module": "@jupyter-widgets/controls"
          }
        },
        "bcc7240e76864e9c94e6087d25aecca6": {
          "model_module": "@jupyter-widgets/base",
          "model_name": "LayoutModel",
          "model_module_version": "1.2.0",
          "state": {
            "_view_name": "LayoutView",
            "grid_template_rows": null,
            "right": null,
            "justify_content": null,
            "_view_module": "@jupyter-widgets/base",
            "overflow": null,
            "_model_module_version": "1.2.0",
            "_view_count": null,
            "flex_flow": null,
            "width": null,
            "min_width": null,
            "border": null,
            "align_items": null,
            "bottom": null,
            "_model_module": "@jupyter-widgets/base",
            "top": null,
            "grid_column": null,
            "overflow_y": null,
            "overflow_x": null,
            "grid_auto_flow": null,
            "grid_area": null,
            "grid_template_columns": null,
            "flex": null,
            "_model_name": "LayoutModel",
            "justify_items": null,
            "grid_row": null,
            "max_height": null,
            "align_content": null,
            "visibility": null,
            "align_self": null,
            "height": null,
            "min_height": null,
            "padding": null,
            "grid_auto_rows": null,
            "grid_gap": null,
            "max_width": null,
            "order": null,
            "_view_module_version": "1.2.0",
            "grid_template_areas": null,
            "object_position": null,
            "object_fit": null,
            "grid_auto_columns": null,
            "margin": null,
            "display": null,
            "left": null
          }
        },
        "a3dbe32fdde3468c84e1a62ad4f65695": {
          "model_module": "@jupyter-widgets/controls",
          "model_name": "DescriptionStyleModel",
          "model_module_version": "1.5.0",
          "state": {
            "_view_name": "StyleView",
            "_model_name": "DescriptionStyleModel",
            "description_width": "",
            "_view_module": "@jupyter-widgets/base",
            "_model_module_version": "1.5.0",
            "_view_count": null,
            "_view_module_version": "1.2.0",
            "_model_module": "@jupyter-widgets/controls"
          }
        },
        "f5fff776a54c4c7ebebdb170d709fb54": {
          "model_module": "@jupyter-widgets/base",
          "model_name": "LayoutModel",
          "model_module_version": "1.2.0",
          "state": {
            "_view_name": "LayoutView",
            "grid_template_rows": null,
            "right": null,
            "justify_content": null,
            "_view_module": "@jupyter-widgets/base",
            "overflow": null,
            "_model_module_version": "1.2.0",
            "_view_count": null,
            "flex_flow": null,
            "width": null,
            "min_width": null,
            "border": null,
            "align_items": null,
            "bottom": null,
            "_model_module": "@jupyter-widgets/base",
            "top": null,
            "grid_column": null,
            "overflow_y": null,
            "overflow_x": null,
            "grid_auto_flow": null,
            "grid_area": null,
            "grid_template_columns": null,
            "flex": null,
            "_model_name": "LayoutModel",
            "justify_items": null,
            "grid_row": null,
            "max_height": null,
            "align_content": null,
            "visibility": null,
            "align_self": null,
            "height": null,
            "min_height": null,
            "padding": null,
            "grid_auto_rows": null,
            "grid_gap": null,
            "max_width": null,
            "order": null,
            "_view_module_version": "1.2.0",
            "grid_template_areas": null,
            "object_position": null,
            "object_fit": null,
            "grid_auto_columns": null,
            "margin": null,
            "display": null,
            "left": null
          }
        },
        "bb988e7f673e4c8fa343c75ad1d9ec43": {
          "model_module": "@jupyter-widgets/controls",
          "model_name": "HBoxModel",
          "model_module_version": "1.5.0",
          "state": {
            "_view_name": "HBoxView",
            "_dom_classes": [],
            "_model_name": "HBoxModel",
            "_view_module": "@jupyter-widgets/controls",
            "_model_module_version": "1.5.0",
            "_view_count": null,
            "_view_module_version": "1.5.0",
            "box_style": "",
            "layout": "IPY_MODEL_a7b94a28f4d442d890fff5f829bea0e8",
            "_model_module": "@jupyter-widgets/controls",
            "children": [
              "IPY_MODEL_f32ca8f99ff94caaa8981f5cc225a878",
              "IPY_MODEL_77ef9d0beeef43dd8c161d0ebb88f35d",
              "IPY_MODEL_56fbde196b114f959665378073818390"
            ]
          }
        },
        "a7b94a28f4d442d890fff5f829bea0e8": {
          "model_module": "@jupyter-widgets/base",
          "model_name": "LayoutModel",
          "model_module_version": "1.2.0",
          "state": {
            "_view_name": "LayoutView",
            "grid_template_rows": null,
            "right": null,
            "justify_content": null,
            "_view_module": "@jupyter-widgets/base",
            "overflow": null,
            "_model_module_version": "1.2.0",
            "_view_count": null,
            "flex_flow": null,
            "width": null,
            "min_width": null,
            "border": null,
            "align_items": null,
            "bottom": null,
            "_model_module": "@jupyter-widgets/base",
            "top": null,
            "grid_column": null,
            "overflow_y": null,
            "overflow_x": null,
            "grid_auto_flow": null,
            "grid_area": null,
            "grid_template_columns": null,
            "flex": null,
            "_model_name": "LayoutModel",
            "justify_items": null,
            "grid_row": null,
            "max_height": null,
            "align_content": null,
            "visibility": null,
            "align_self": null,
            "height": null,
            "min_height": null,
            "padding": null,
            "grid_auto_rows": null,
            "grid_gap": null,
            "max_width": null,
            "order": null,
            "_view_module_version": "1.2.0",
            "grid_template_areas": null,
            "object_position": null,
            "object_fit": null,
            "grid_auto_columns": null,
            "margin": null,
            "display": null,
            "left": null
          }
        },
        "f32ca8f99ff94caaa8981f5cc225a878": {
          "model_module": "@jupyter-widgets/controls",
          "model_name": "HTMLModel",
          "model_module_version": "1.5.0",
          "state": {
            "_view_name": "HTMLView",
            "style": "IPY_MODEL_1cff6afccaa54c0b9d84f4c5a87f96f6",
            "_dom_classes": [],
            "description": "",
            "_model_name": "HTMLModel",
            "placeholder": "​",
            "_view_module": "@jupyter-widgets/controls",
            "_model_module_version": "1.5.0",
            "value": "",
            "_view_count": null,
            "_view_module_version": "1.5.0",
            "description_tooltip": null,
            "_model_module": "@jupyter-widgets/controls",
            "layout": "IPY_MODEL_c38280f210744e8aa277f6bf6f2fb8e2"
          }
        },
        "77ef9d0beeef43dd8c161d0ebb88f35d": {
          "model_module": "@jupyter-widgets/controls",
          "model_name": "FloatProgressModel",
          "model_module_version": "1.5.0",
          "state": {
            "_view_name": "ProgressView",
            "style": "IPY_MODEL_32b2d5b258d14ede90d7971854386975",
            "_dom_classes": [],
            "description": "",
            "_model_name": "FloatProgressModel",
            "bar_style": "info",
            "max": 1,
            "_view_module": "@jupyter-widgets/controls",
            "_model_module_version": "1.5.0",
            "value": 1,
            "_view_count": null,
            "_view_module_version": "1.5.0",
            "orientation": "horizontal",
            "min": 0,
            "description_tooltip": null,
            "_model_module": "@jupyter-widgets/controls",
            "layout": "IPY_MODEL_b9b6e38bc8a742a09a5d125b2d7ca244"
          }
        },
        "56fbde196b114f959665378073818390": {
          "model_module": "@jupyter-widgets/controls",
          "model_name": "HTMLModel",
          "model_module_version": "1.5.0",
          "state": {
            "_view_name": "HTMLView",
            "style": "IPY_MODEL_5807828f101246548ffbc800cbe65c13",
            "_dom_classes": [],
            "description": "",
            "_model_name": "HTMLModel",
            "placeholder": "​",
            "_view_module": "@jupyter-widgets/controls",
            "_model_module_version": "1.5.0",
            "value": " 49784/0 [00:27&lt;00:00, 2328.42 examples/s]",
            "_view_count": null,
            "_view_module_version": "1.5.0",
            "description_tooltip": null,
            "_model_module": "@jupyter-widgets/controls",
            "layout": "IPY_MODEL_e1447f6e94884bd4adb288d244ffc8d0"
          }
        },
        "1cff6afccaa54c0b9d84f4c5a87f96f6": {
          "model_module": "@jupyter-widgets/controls",
          "model_name": "DescriptionStyleModel",
          "model_module_version": "1.5.0",
          "state": {
            "_view_name": "StyleView",
            "_model_name": "DescriptionStyleModel",
            "description_width": "",
            "_view_module": "@jupyter-widgets/base",
            "_model_module_version": "1.5.0",
            "_view_count": null,
            "_view_module_version": "1.2.0",
            "_model_module": "@jupyter-widgets/controls"
          }
        },
        "c38280f210744e8aa277f6bf6f2fb8e2": {
          "model_module": "@jupyter-widgets/base",
          "model_name": "LayoutModel",
          "model_module_version": "1.2.0",
          "state": {
            "_view_name": "LayoutView",
            "grid_template_rows": null,
            "right": null,
            "justify_content": null,
            "_view_module": "@jupyter-widgets/base",
            "overflow": null,
            "_model_module_version": "1.2.0",
            "_view_count": null,
            "flex_flow": null,
            "width": null,
            "min_width": null,
            "border": null,
            "align_items": null,
            "bottom": null,
            "_model_module": "@jupyter-widgets/base",
            "top": null,
            "grid_column": null,
            "overflow_y": null,
            "overflow_x": null,
            "grid_auto_flow": null,
            "grid_area": null,
            "grid_template_columns": null,
            "flex": null,
            "_model_name": "LayoutModel",
            "justify_items": null,
            "grid_row": null,
            "max_height": null,
            "align_content": null,
            "visibility": null,
            "align_self": null,
            "height": null,
            "min_height": null,
            "padding": null,
            "grid_auto_rows": null,
            "grid_gap": null,
            "max_width": null,
            "order": null,
            "_view_module_version": "1.2.0",
            "grid_template_areas": null,
            "object_position": null,
            "object_fit": null,
            "grid_auto_columns": null,
            "margin": null,
            "display": null,
            "left": null
          }
        },
        "32b2d5b258d14ede90d7971854386975": {
          "model_module": "@jupyter-widgets/controls",
          "model_name": "ProgressStyleModel",
          "model_module_version": "1.5.0",
          "state": {
            "_view_name": "StyleView",
            "_model_name": "ProgressStyleModel",
            "description_width": "",
            "_view_module": "@jupyter-widgets/base",
            "_model_module_version": "1.5.0",
            "_view_count": null,
            "_view_module_version": "1.2.0",
            "bar_color": null,
            "_model_module": "@jupyter-widgets/controls"
          }
        },
        "b9b6e38bc8a742a09a5d125b2d7ca244": {
          "model_module": "@jupyter-widgets/base",
          "model_name": "LayoutModel",
          "model_module_version": "1.2.0",
          "state": {
            "_view_name": "LayoutView",
            "grid_template_rows": null,
            "right": null,
            "justify_content": null,
            "_view_module": "@jupyter-widgets/base",
            "overflow": null,
            "_model_module_version": "1.2.0",
            "_view_count": null,
            "flex_flow": null,
            "width": "20px",
            "min_width": null,
            "border": null,
            "align_items": null,
            "bottom": null,
            "_model_module": "@jupyter-widgets/base",
            "top": null,
            "grid_column": null,
            "overflow_y": null,
            "overflow_x": null,
            "grid_auto_flow": null,
            "grid_area": null,
            "grid_template_columns": null,
            "flex": null,
            "_model_name": "LayoutModel",
            "justify_items": null,
            "grid_row": null,
            "max_height": null,
            "align_content": null,
            "visibility": null,
            "align_self": null,
            "height": null,
            "min_height": null,
            "padding": null,
            "grid_auto_rows": null,
            "grid_gap": null,
            "max_width": null,
            "order": null,
            "_view_module_version": "1.2.0",
            "grid_template_areas": null,
            "object_position": null,
            "object_fit": null,
            "grid_auto_columns": null,
            "margin": null,
            "display": null,
            "left": null
          }
        },
        "5807828f101246548ffbc800cbe65c13": {
          "model_module": "@jupyter-widgets/controls",
          "model_name": "DescriptionStyleModel",
          "model_module_version": "1.5.0",
          "state": {
            "_view_name": "StyleView",
            "_model_name": "DescriptionStyleModel",
            "description_width": "",
            "_view_module": "@jupyter-widgets/base",
            "_model_module_version": "1.5.0",
            "_view_count": null,
            "_view_module_version": "1.2.0",
            "_model_module": "@jupyter-widgets/controls"
          }
        },
        "e1447f6e94884bd4adb288d244ffc8d0": {
          "model_module": "@jupyter-widgets/base",
          "model_name": "LayoutModel",
          "model_module_version": "1.2.0",
          "state": {
            "_view_name": "LayoutView",
            "grid_template_rows": null,
            "right": null,
            "justify_content": null,
            "_view_module": "@jupyter-widgets/base",
            "overflow": null,
            "_model_module_version": "1.2.0",
            "_view_count": null,
            "flex_flow": null,
            "width": null,
            "min_width": null,
            "border": null,
            "align_items": null,
            "bottom": null,
            "_model_module": "@jupyter-widgets/base",
            "top": null,
            "grid_column": null,
            "overflow_y": null,
            "overflow_x": null,
            "grid_auto_flow": null,
            "grid_area": null,
            "grid_template_columns": null,
            "flex": null,
            "_model_name": "LayoutModel",
            "justify_items": null,
            "grid_row": null,
            "max_height": null,
            "align_content": null,
            "visibility": null,
            "align_self": null,
            "height": null,
            "min_height": null,
            "padding": null,
            "grid_auto_rows": null,
            "grid_gap": null,
            "max_width": null,
            "order": null,
            "_view_module_version": "1.2.0",
            "grid_template_areas": null,
            "object_position": null,
            "object_fit": null,
            "grid_auto_columns": null,
            "margin": null,
            "display": null,
            "left": null
          }
        },
        "481e1b9aaf1c4cb08c9a97fc6b7e63b3": {
          "model_module": "@jupyter-widgets/controls",
          "model_name": "HBoxModel",
          "model_module_version": "1.5.0",
          "state": {
            "_view_name": "HBoxView",
            "_dom_classes": [],
            "_model_name": "HBoxModel",
            "_view_module": "@jupyter-widgets/controls",
            "_model_module_version": "1.5.0",
            "_view_count": null,
            "_view_module_version": "1.5.0",
            "box_style": "",
            "layout": "IPY_MODEL_3ff2150eeb0b4f59947454616324fee2",
            "_model_module": "@jupyter-widgets/controls",
            "children": [
              "IPY_MODEL_f7aee3d023744df1acfb03c055012525",
              "IPY_MODEL_d3190e6784024eeb947ee20fe8c27539",
              "IPY_MODEL_0cbb3007217a4b368db357fff40592ac"
            ]
          }
        },
        "3ff2150eeb0b4f59947454616324fee2": {
          "model_module": "@jupyter-widgets/base",
          "model_name": "LayoutModel",
          "model_module_version": "1.2.0",
          "state": {
            "_view_name": "LayoutView",
            "grid_template_rows": null,
            "right": null,
            "justify_content": null,
            "_view_module": "@jupyter-widgets/base",
            "overflow": null,
            "_model_module_version": "1.2.0",
            "_view_count": null,
            "flex_flow": null,
            "width": null,
            "min_width": null,
            "border": null,
            "align_items": null,
            "bottom": null,
            "_model_module": "@jupyter-widgets/base",
            "top": null,
            "grid_column": null,
            "overflow_y": null,
            "overflow_x": null,
            "grid_auto_flow": null,
            "grid_area": null,
            "grid_template_columns": null,
            "flex": null,
            "_model_name": "LayoutModel",
            "justify_items": null,
            "grid_row": null,
            "max_height": null,
            "align_content": null,
            "visibility": null,
            "align_self": null,
            "height": null,
            "min_height": null,
            "padding": null,
            "grid_auto_rows": null,
            "grid_gap": null,
            "max_width": null,
            "order": null,
            "_view_module_version": "1.2.0",
            "grid_template_areas": null,
            "object_position": null,
            "object_fit": null,
            "grid_auto_columns": null,
            "margin": null,
            "display": null,
            "left": null
          }
        },
        "f7aee3d023744df1acfb03c055012525": {
          "model_module": "@jupyter-widgets/controls",
          "model_name": "HTMLModel",
          "model_module_version": "1.5.0",
          "state": {
            "_view_name": "HTMLView",
            "style": "IPY_MODEL_2f6478158c214f00bdbb74befa952c33",
            "_dom_classes": [],
            "description": "",
            "_model_name": "HTMLModel",
            "placeholder": "​",
            "_view_module": "@jupyter-widgets/controls",
            "_model_module_version": "1.5.0",
            "value": "100%",
            "_view_count": null,
            "_view_module_version": "1.5.0",
            "description_tooltip": null,
            "_model_module": "@jupyter-widgets/controls",
            "layout": "IPY_MODEL_9e59ec18a3ad46dea4e8f80ce4faddfe"
          }
        },
        "d3190e6784024eeb947ee20fe8c27539": {
          "model_module": "@jupyter-widgets/controls",
          "model_name": "FloatProgressModel",
          "model_module_version": "1.5.0",
          "state": {
            "_view_name": "ProgressView",
            "style": "IPY_MODEL_c3b70305f09843ee97f8339cc82c922b",
            "_dom_classes": [],
            "description": "",
            "_model_name": "FloatProgressModel",
            "bar_style": "danger",
            "max": 50000,
            "_view_module": "@jupyter-widgets/controls",
            "_model_module_version": "1.5.0",
            "value": 49999,
            "_view_count": null,
            "_view_module_version": "1.5.0",
            "orientation": "horizontal",
            "min": 0,
            "description_tooltip": null,
            "_model_module": "@jupyter-widgets/controls",
            "layout": "IPY_MODEL_fd49067f75344b46b05d694bedd8d0aa"
          }
        },
        "0cbb3007217a4b368db357fff40592ac": {
          "model_module": "@jupyter-widgets/controls",
          "model_name": "HTMLModel",
          "model_module_version": "1.5.0",
          "state": {
            "_view_name": "HTMLView",
            "style": "IPY_MODEL_19e1d87663ea4f47943432101ff9a1ec",
            "_dom_classes": [],
            "description": "",
            "_model_name": "HTMLModel",
            "placeholder": "​",
            "_view_module": "@jupyter-widgets/controls",
            "_model_module_version": "1.5.0",
            "value": " 49999/50000 [00:00&lt;00:00, 131779.81 examples/s]",
            "_view_count": null,
            "_view_module_version": "1.5.0",
            "description_tooltip": null,
            "_model_module": "@jupyter-widgets/controls",
            "layout": "IPY_MODEL_121a9cdbb9f7404b974fef756527ce35"
          }
        },
        "2f6478158c214f00bdbb74befa952c33": {
          "model_module": "@jupyter-widgets/controls",
          "model_name": "DescriptionStyleModel",
          "model_module_version": "1.5.0",
          "state": {
            "_view_name": "StyleView",
            "_model_name": "DescriptionStyleModel",
            "description_width": "",
            "_view_module": "@jupyter-widgets/base",
            "_model_module_version": "1.5.0",
            "_view_count": null,
            "_view_module_version": "1.2.0",
            "_model_module": "@jupyter-widgets/controls"
          }
        },
        "9e59ec18a3ad46dea4e8f80ce4faddfe": {
          "model_module": "@jupyter-widgets/base",
          "model_name": "LayoutModel",
          "model_module_version": "1.2.0",
          "state": {
            "_view_name": "LayoutView",
            "grid_template_rows": null,
            "right": null,
            "justify_content": null,
            "_view_module": "@jupyter-widgets/base",
            "overflow": null,
            "_model_module_version": "1.2.0",
            "_view_count": null,
            "flex_flow": null,
            "width": null,
            "min_width": null,
            "border": null,
            "align_items": null,
            "bottom": null,
            "_model_module": "@jupyter-widgets/base",
            "top": null,
            "grid_column": null,
            "overflow_y": null,
            "overflow_x": null,
            "grid_auto_flow": null,
            "grid_area": null,
            "grid_template_columns": null,
            "flex": null,
            "_model_name": "LayoutModel",
            "justify_items": null,
            "grid_row": null,
            "max_height": null,
            "align_content": null,
            "visibility": null,
            "align_self": null,
            "height": null,
            "min_height": null,
            "padding": null,
            "grid_auto_rows": null,
            "grid_gap": null,
            "max_width": null,
            "order": null,
            "_view_module_version": "1.2.0",
            "grid_template_areas": null,
            "object_position": null,
            "object_fit": null,
            "grid_auto_columns": null,
            "margin": null,
            "display": null,
            "left": null
          }
        },
        "c3b70305f09843ee97f8339cc82c922b": {
          "model_module": "@jupyter-widgets/controls",
          "model_name": "ProgressStyleModel",
          "model_module_version": "1.5.0",
          "state": {
            "_view_name": "StyleView",
            "_model_name": "ProgressStyleModel",
            "description_width": "",
            "_view_module": "@jupyter-widgets/base",
            "_model_module_version": "1.5.0",
            "_view_count": null,
            "_view_module_version": "1.2.0",
            "bar_color": null,
            "_model_module": "@jupyter-widgets/controls"
          }
        },
        "fd49067f75344b46b05d694bedd8d0aa": {
          "model_module": "@jupyter-widgets/base",
          "model_name": "LayoutModel",
          "model_module_version": "1.2.0",
          "state": {
            "_view_name": "LayoutView",
            "grid_template_rows": null,
            "right": null,
            "justify_content": null,
            "_view_module": "@jupyter-widgets/base",
            "overflow": null,
            "_model_module_version": "1.2.0",
            "_view_count": null,
            "flex_flow": null,
            "width": null,
            "min_width": null,
            "border": null,
            "align_items": null,
            "bottom": null,
            "_model_module": "@jupyter-widgets/base",
            "top": null,
            "grid_column": null,
            "overflow_y": null,
            "overflow_x": null,
            "grid_auto_flow": null,
            "grid_area": null,
            "grid_template_columns": null,
            "flex": null,
            "_model_name": "LayoutModel",
            "justify_items": null,
            "grid_row": null,
            "max_height": null,
            "align_content": null,
            "visibility": null,
            "align_self": null,
            "height": null,
            "min_height": null,
            "padding": null,
            "grid_auto_rows": null,
            "grid_gap": null,
            "max_width": null,
            "order": null,
            "_view_module_version": "1.2.0",
            "grid_template_areas": null,
            "object_position": null,
            "object_fit": null,
            "grid_auto_columns": null,
            "margin": null,
            "display": null,
            "left": null
          }
        },
        "19e1d87663ea4f47943432101ff9a1ec": {
          "model_module": "@jupyter-widgets/controls",
          "model_name": "DescriptionStyleModel",
          "model_module_version": "1.5.0",
          "state": {
            "_view_name": "StyleView",
            "_model_name": "DescriptionStyleModel",
            "description_width": "",
            "_view_module": "@jupyter-widgets/base",
            "_model_module_version": "1.5.0",
            "_view_count": null,
            "_view_module_version": "1.2.0",
            "_model_module": "@jupyter-widgets/controls"
          }
        },
        "121a9cdbb9f7404b974fef756527ce35": {
          "model_module": "@jupyter-widgets/base",
          "model_name": "LayoutModel",
          "model_module_version": "1.2.0",
          "state": {
            "_view_name": "LayoutView",
            "grid_template_rows": null,
            "right": null,
            "justify_content": null,
            "_view_module": "@jupyter-widgets/base",
            "overflow": null,
            "_model_module_version": "1.2.0",
            "_view_count": null,
            "flex_flow": null,
            "width": null,
            "min_width": null,
            "border": null,
            "align_items": null,
            "bottom": null,
            "_model_module": "@jupyter-widgets/base",
            "top": null,
            "grid_column": null,
            "overflow_y": null,
            "overflow_x": null,
            "grid_auto_flow": null,
            "grid_area": null,
            "grid_template_columns": null,
            "flex": null,
            "_model_name": "LayoutModel",
            "justify_items": null,
            "grid_row": null,
            "max_height": null,
            "align_content": null,
            "visibility": null,
            "align_self": null,
            "height": null,
            "min_height": null,
            "padding": null,
            "grid_auto_rows": null,
            "grid_gap": null,
            "max_width": null,
            "order": null,
            "_view_module_version": "1.2.0",
            "grid_template_areas": null,
            "object_position": null,
            "object_fit": null,
            "grid_auto_columns": null,
            "margin": null,
            "display": null,
            "left": null
          }
        }
      }
    }
  },
  "cells": [
    {
      "cell_type": "markdown",
      "metadata": {
        "id": "view-in-github",
        "colab_type": "text"
      },
      "source": [
        "<a href=\"https://colab.research.google.com/github/BrendanL72/ACM-Research-Coding-Challenge-F21/blob/main/Sentiment_Analysis_RNN.ipynb\" target=\"_parent\"><img src=\"https://colab.research.google.com/assets/colab-badge.svg\" alt=\"Open In Colab\"/></a>"
      ]
    },
    {
      "cell_type": "markdown",
      "metadata": {
        "id": "66kbgRoqE7x1"
      },
      "source": [
        "##Info\n",
        "This code was shamelessly ripped/adapted from the \"Text classification with an RNN\" tutorial offered by the TensorFlow website.\n",
        "\n",
        "https://www.tensorflow.org/text/tutorials/text_classification_rnn\n",
        "\n",
        "Additions made by Brendan Lim\n",
        "\n",
        "This was created for ACM Research\n",
        "\n",
        "This program was created in Google Colab and therefore be run in that environment."
      ]
    },
    {
      "cell_type": "markdown",
      "metadata": {
        "id": "9dJWWsDUy3Cb"
      },
      "source": [
        "#Setup"
      ]
    },
    {
      "cell_type": "markdown",
      "metadata": {
        "id": "2Z5kZnhM6Rhz"
      },
      "source": [
        "The IMDB reviews are part of the imported TensorFlow Datasets library. As such it does not need to be downloaded from the internet and can be loaded by name."
      ]
    },
    {
      "cell_type": "code",
      "metadata": {
        "id": "RwKAiqaLyaiE"
      },
      "source": [
        "import numpy as np\n",
        "\n",
        "import tensorflow_datasets as tfds\n",
        "import tensorflow as tf"
      ],
      "execution_count": 1,
      "outputs": []
    },
    {
      "cell_type": "code",
      "metadata": {
        "id": "fYPfWL_hy2iL"
      },
      "source": [
        "#used for graphing the learning progress of the learning model\n",
        "import matplotlib.pyplot as plt\n",
        "\n",
        "\n",
        "def plot_graphs(history, metric):\n",
        "  plt.plot(history.history[metric])\n",
        "  plt.plot(history.history['val_'+metric], '')\n",
        "  plt.xlabel(\"Epochs\")\n",
        "  plt.ylabel(metric)\n",
        "  plt.legend([metric, 'val_'+metric])"
      ],
      "execution_count": 2,
      "outputs": []
    },
    {
      "cell_type": "markdown",
      "metadata": {
        "id": "yTLLxcZxzJQQ"
      },
      "source": [
        "Loading the directory of imdb_reviews into a Dataset object and splitting it into training and testing datasets."
      ]
    },
    {
      "cell_type": "code",
      "metadata": {
        "colab": {
          "base_uri": "https://localhost:8080/",
          "height": 347,
          "referenced_widgets": [
            "be3fdc54429b42ed88e2c3854cd1e9b4",
            "7c9b5e2a39be4ec6b9d30336f304c120",
            "4d5b6fb4ad0c4bbb816e28699b1b5473",
            "ceae95c2ebf64b509213e20aa542fc31",
            "952ee57a290048de9ac0a2de423fe361",
            "8bf78f1e29be408a810bcc0297976cd8",
            "96625ae831d745d19bc69b70e0a866d1",
            "c8aa36f766584223873903609d760e4a",
            "eb430b73868c4e63abb364dd505dd772",
            "1814193d8b3e48c9acaa4fa2c2241b73",
            "ca2e83d6903d4a2bab1874f8425f91bf",
            "1e9fa94d12d0454cb9c27e0c46cc593b",
            "ce2a04d2de194f26a5a7cd16f5246e7f",
            "cb048d44c6b84be8aad42a090a40f23f",
            "c555cc1958c04b25aee1e58448fad856",
            "dd5d0f0669b24cbeb3d749580e502c73",
            "79604429c10e4765a7fc5ed881ccaf64",
            "28c51d67001c4e739c56acf9ecaf5fc3",
            "a0ad5d843b434d8bb04854a39a3709c0",
            "b22a14069e7c4a188913fbcf17596506",
            "eb26b28167264fe493afa60ff5e3a65a",
            "af2a0fc115964322844a15bb4a5d4627",
            "2866e5765fe74e56a45c204966b8d4d5",
            "37b3223df48440d3b74f109ded5fe995",
            "ac8d21ec07e54a59b30925b010ae49c6",
            "2b70813c047e4c5a9b2887a3b21ffe5b",
            "b78ae5dd0adb46b599e981a52d912071",
            "2d9d932b818541938cdf3b2d38e8f835",
            "e1634657f1064d3784cf34acd9c11861",
            "cc882aaccdde4b92990fdcd9df34ddc9",
            "191e957b0f0747ad94a3e24421ee64fd",
            "8303050b25534007bf7875e6671d1e65",
            "fa3e09a0585d48218f803ddf91727776",
            "974e9a91de5a4b7781b747c1f5e81deb",
            "355a5449a2a74b4fbab1e10b8b88548f",
            "5759abcc3cfa48869910156b25a7296d",
            "0565f06d557f46bda0f1c7c24ce34d71",
            "b898c9788fb74f2aacc4bc595a2649e1",
            "8e104e1cdd9c4f7baa79468a54285e0e",
            "7ee5929eb3e047c6ad7b98d876eb2f57",
            "3a4dee2078c14988a99452b00728f875",
            "27879c25b4774e628d6d28b0e7464929",
            "f40cc881f4134a1e8e983d45f1b64548",
            "6c93b23d387b483b88c8887f15405fb6",
            "d14ce423a718442f9769524baedbe9a6",
            "a26b463e3c974ec5ac46240ed7007382",
            "9873bfddba504f60bb9e9e050b008548",
            "b58c78182b3b48c58181ef7338d84a6a",
            "421d7e029fa94dc09122f5574cc24559",
            "5290c7d794e04ac58dc431de57a90ad0",
            "2942bb4747b24e39bc9e953a98b1c3fd",
            "a569284ed63042c496ceb610e9ac9dfd",
            "9eb506f027444bc8a62bbc0fa9abae13",
            "0d6e1fc87ab94189b147051ec688763f",
            "bebbacf668c14ee9bd1efb1a1a532599",
            "f784d174f4214b53b705784a47939ee0",
            "670f720b59b24bf6a23f9b66d807a7f2",
            "1ad7dd2964d0436f89682333d87b3390",
            "77ae9f04bfdd4f4696f719ee833232f4",
            "e8c3a11cdae84947a03d27f8e6dd7e42",
            "ba64791835ea4960afa91cb87a6be8ef",
            "745b0e596e7d4a21810b7f3bc0fb0ace",
            "a4e6dc1a37f449ef9134b1580433fb57",
            "bcc7240e76864e9c94e6087d25aecca6",
            "a3dbe32fdde3468c84e1a62ad4f65695",
            "f5fff776a54c4c7ebebdb170d709fb54",
            "bb988e7f673e4c8fa343c75ad1d9ec43",
            "a7b94a28f4d442d890fff5f829bea0e8",
            "f32ca8f99ff94caaa8981f5cc225a878",
            "77ef9d0beeef43dd8c161d0ebb88f35d",
            "56fbde196b114f959665378073818390",
            "1cff6afccaa54c0b9d84f4c5a87f96f6",
            "c38280f210744e8aa277f6bf6f2fb8e2",
            "32b2d5b258d14ede90d7971854386975",
            "b9b6e38bc8a742a09a5d125b2d7ca244",
            "5807828f101246548ffbc800cbe65c13",
            "e1447f6e94884bd4adb288d244ffc8d0",
            "481e1b9aaf1c4cb08c9a97fc6b7e63b3",
            "3ff2150eeb0b4f59947454616324fee2",
            "f7aee3d023744df1acfb03c055012525",
            "d3190e6784024eeb947ee20fe8c27539",
            "0cbb3007217a4b368db357fff40592ac",
            "2f6478158c214f00bdbb74befa952c33",
            "9e59ec18a3ad46dea4e8f80ce4faddfe",
            "c3b70305f09843ee97f8339cc82c922b",
            "fd49067f75344b46b05d694bedd8d0aa",
            "19e1d87663ea4f47943432101ff9a1ec",
            "121a9cdbb9f7404b974fef756527ce35"
          ]
        },
        "id": "4btQIKxTzSAP",
        "outputId": "be10101d-8310-48fa-8a51-42ee9f716bb5"
      },
      "source": [
        "dataset, info = tfds.load('imdb_reviews', \n",
        "                          with_info =True,\n",
        "                          as_supervised = True) #VERY IMPORTANT, dataset contains unsupervised data\n",
        "\n",
        "train_dataset, test_dataset = dataset['train'], dataset['test']\n",
        "\n",
        "train_dataset.element_spec"
      ],
      "execution_count": 3,
      "outputs": [
        {
          "output_type": "stream",
          "name": "stdout",
          "text": [
            "\u001b[1mDownloading and preparing dataset imdb_reviews/plain_text/1.0.0 (download: 80.23 MiB, generated: Unknown size, total: 80.23 MiB) to /root/tensorflow_datasets/imdb_reviews/plain_text/1.0.0...\u001b[0m\n"
          ]
        },
        {
          "output_type": "display_data",
          "data": {
            "application/vnd.jupyter.widget-view+json": {
              "model_id": "be3fdc54429b42ed88e2c3854cd1e9b4",
              "version_minor": 0,
              "version_major": 2
            },
            "text/plain": [
              "Dl Completed...: 0 url [00:00, ? url/s]"
            ]
          },
          "metadata": {}
        },
        {
          "output_type": "display_data",
          "data": {
            "application/vnd.jupyter.widget-view+json": {
              "model_id": "1e9fa94d12d0454cb9c27e0c46cc593b",
              "version_minor": 0,
              "version_major": 2
            },
            "text/plain": [
              "Dl Size...: 0 MiB [00:00, ? MiB/s]"
            ]
          },
          "metadata": {}
        },
        {
          "output_type": "stream",
          "name": "stdout",
          "text": [
            "\n",
            "\n"
          ]
        },
        {
          "output_type": "display_data",
          "data": {
            "application/vnd.jupyter.widget-view+json": {
              "model_id": "2866e5765fe74e56a45c204966b8d4d5",
              "version_minor": 0,
              "version_major": 2
            },
            "text/plain": [
              "0 examples [00:00, ? examples/s]"
            ]
          },
          "metadata": {}
        },
        {
          "output_type": "stream",
          "name": "stdout",
          "text": [
            "Shuffling and writing examples to /root/tensorflow_datasets/imdb_reviews/plain_text/1.0.0.incompleteMRC2J9/imdb_reviews-train.tfrecord\n"
          ]
        },
        {
          "output_type": "display_data",
          "data": {
            "application/vnd.jupyter.widget-view+json": {
              "model_id": "974e9a91de5a4b7781b747c1f5e81deb",
              "version_minor": 0,
              "version_major": 2
            },
            "text/plain": [
              "  0%|          | 0/25000 [00:00<?, ? examples/s]"
            ]
          },
          "metadata": {}
        },
        {
          "output_type": "display_data",
          "data": {
            "application/vnd.jupyter.widget-view+json": {
              "model_id": "d14ce423a718442f9769524baedbe9a6",
              "version_minor": 0,
              "version_major": 2
            },
            "text/plain": [
              "0 examples [00:00, ? examples/s]"
            ]
          },
          "metadata": {}
        },
        {
          "output_type": "stream",
          "name": "stdout",
          "text": [
            "Shuffling and writing examples to /root/tensorflow_datasets/imdb_reviews/plain_text/1.0.0.incompleteMRC2J9/imdb_reviews-test.tfrecord\n"
          ]
        },
        {
          "output_type": "display_data",
          "data": {
            "application/vnd.jupyter.widget-view+json": {
              "model_id": "f784d174f4214b53b705784a47939ee0",
              "version_minor": 0,
              "version_major": 2
            },
            "text/plain": [
              "  0%|          | 0/25000 [00:00<?, ? examples/s]"
            ]
          },
          "metadata": {}
        },
        {
          "output_type": "display_data",
          "data": {
            "application/vnd.jupyter.widget-view+json": {
              "model_id": "bb988e7f673e4c8fa343c75ad1d9ec43",
              "version_minor": 0,
              "version_major": 2
            },
            "text/plain": [
              "0 examples [00:00, ? examples/s]"
            ]
          },
          "metadata": {}
        },
        {
          "output_type": "stream",
          "name": "stdout",
          "text": [
            "Shuffling and writing examples to /root/tensorflow_datasets/imdb_reviews/plain_text/1.0.0.incompleteMRC2J9/imdb_reviews-unsupervised.tfrecord\n"
          ]
        },
        {
          "output_type": "display_data",
          "data": {
            "application/vnd.jupyter.widget-view+json": {
              "model_id": "481e1b9aaf1c4cb08c9a97fc6b7e63b3",
              "version_minor": 0,
              "version_major": 2
            },
            "text/plain": [
              "  0%|          | 0/50000 [00:00<?, ? examples/s]"
            ]
          },
          "metadata": {}
        },
        {
          "output_type": "stream",
          "name": "stderr",
          "text": [
            "WARNING:absl:Dataset is using deprecated text encoder API which will be removed soon. Please use the plain_text version of the dataset and migrate to `tensorflow_text`.\n"
          ]
        },
        {
          "output_type": "stream",
          "name": "stdout",
          "text": [
            "\u001b[1mDataset imdb_reviews downloaded and prepared to /root/tensorflow_datasets/imdb_reviews/plain_text/1.0.0. Subsequent calls will reuse this data.\u001b[0m\n"
          ]
        },
        {
          "output_type": "execute_result",
          "data": {
            "text/plain": [
              "(TensorSpec(shape=(), dtype=tf.string, name=None),\n",
              " TensorSpec(shape=(), dtype=tf.int64, name=None))"
            ]
          },
          "metadata": {},
          "execution_count": 3
        }
      ]
    },
    {
      "cell_type": "markdown",
      "metadata": {
        "id": "OMxlkWnVzQKZ"
      },
      "source": [
        "Get a random review to make sure that the data has been loaded in properly"
      ]
    },
    {
      "cell_type": "code",
      "metadata": {
        "colab": {
          "base_uri": "https://localhost:8080/"
        },
        "id": "dv4loFG-1VFK",
        "outputId": "f200a905-02a3-4a15-bd2b-28aec42c5359"
      },
      "source": [
        "for example, label in train_dataset.take(1):\n",
        "  print('Text: ', example.numpy())\n",
        "  print('Rating: ', label.numpy())"
      ],
      "execution_count": 4,
      "outputs": [
        {
          "output_type": "stream",
          "name": "stdout",
          "text": [
            "Text:  b\"This was an absolutely terrible movie. Don't be lured in by Christopher Walken or Michael Ironside. Both are great actors, but this must simply be their worst role in history. Even their great acting could not redeem this movie's ridiculous storyline. This movie is an early nineties US propaganda piece. The most pathetic scenes were those when the Columbian rebels were making their cases for revolutions. Maria Conchita Alonso appeared phony, and her pseudo-love affair with Walken was nothing but a pathetic emotional plug in a movie that was devoid of any real meaning. I am disappointed that there are movies like this, ruining actor's like Christopher Walken's good name. I could barely sit through it.\"\n",
            "Rating:  0\n"
          ]
        }
      ]
    },
    {
      "cell_type": "markdown",
      "metadata": {
        "id": "dcF9GNhA3HoQ"
      },
      "source": [
        "Prefetching some random data from the training and testing datasets to make sure everything works"
      ]
    },
    {
      "cell_type": "code",
      "metadata": {
        "id": "6I8rQjnE1sC1"
      },
      "source": [
        "#Constants to determine the amount of data we are prefetching\n",
        "BUFFER_SIZE = 10000\n",
        "BATCH_SIZE = 64\n",
        "\n",
        "train_dataset = train_dataset.shuffle(BUFFER_SIZE).batch(BATCH_SIZE).prefetch(tf.data.AUTOTUNE)\n",
        "test_dataset = test_dataset.batch(BATCH_SIZE).prefetch(tf.data.AUTOTUNE)"
      ],
      "execution_count": 5,
      "outputs": []
    },
    {
      "cell_type": "code",
      "metadata": {
        "colab": {
          "base_uri": "https://localhost:8080/"
        },
        "id": "jBQvv6rq2BkE",
        "outputId": "4f3a8f1a-803e-43e7-8b9f-e5f99caa8bd4"
      },
      "source": [
        "num_loops = 1\n",
        "num_reviews_show = 3\n",
        "for example, label in train_dataset.take(num_loops):\n",
        "  #print('TEXTS: ', example.numpy()[:num_reviews_show])\n",
        "  for text in example.numpy()[:num_reviews_show]:\n",
        "    print(text[:500], '\\n')\n",
        "  print()\n",
        "  print('RATINGS: ', label.numpy()[:num_reviews_show])"
      ],
      "execution_count": 33,
      "outputs": [
        {
          "output_type": "stream",
          "name": "stdout",
          "text": [
            "b\"The only thing serious about this movie is the humor. Well worth the rental price. I'll bet you watch it twice. It's obvious that Sutherland enjoyed his role.\" \n",
            "\n",
            "b\"Love is overwhelming... In all it's manifestations... Gorgeous, absolutely gorgeous... Tudor Chirila, Maria Popistasu and Ioana Barbu, one truly dramatic story about love in all it's shapes, a story about the undecipherable ways of young hearts, about life and lost innocence all directed by the skillful eye of Tudor Giurgiu. With a magnificent soundtrack featuring Faultline & Chris Martin and Vama Veche it surprises in every way leaving behind the sour taste of misunderstanding love... Truly rem\" \n",
            "\n",
            "b\"This Movie is complete crap! Avoid this waste of celluloid at all costs, it is rambling and incoherent. I pride myself on plumbing the depths of 70's sleaze cinema from everything from Salo to Salon Kitty. I like being shocked, but I need a coherent story. However if watching horses mate gets you off this film is for you. The saddest part was that lame werewolf suit with the functional wang. I mean its just plain hard to sit through, not to mention the acting is terrible and the soundtrack is du\" \n",
            "\n",
            "\n",
            "RATINGS:  [1 1 0]\n"
          ]
        }
      ]
    },
    {
      "cell_type": "markdown",
      "metadata": {
        "id": "dL7pzknU5BAM"
      },
      "source": [
        "#Creating the text encoder"
      ]
    },
    {
      "cell_type": "markdown",
      "metadata": {
        "id": "BXqdSyCi5pE8"
      },
      "source": [
        "Notes:\n",
        "*   Too few allowed vocabulary causes more of the tokens to be unknown ([UNK]) but also run slower \n",
        "\n",
        "*   keras.layers.experimental.preprocessing.TextVectorization() processes the text into an array of processed, lowercase tokens that is then turned into vectors. It is a layer. There is a variation that does not preprocess.\n",
        "\n",
        "*   The adapt() method can be used on a layer to look at the dataset and creates a vocabulary based on the frequency of the words"
      ]
    },
    {
      "cell_type": "code",
      "metadata": {
        "id": "2MrkPaBa5Lvp"
      },
      "source": [
        "MAX_VOCAB = 1000 #sets the max number of words the computer can know\n",
        "\n",
        "encoder = tf.keras.layers.experimental.preprocessing.TextVectorization(\n",
        "    max_tokens=MAX_VOCAB)\n",
        "\n",
        "encoder.adapt(train_dataset.map(lambda text, label: text))"
      ],
      "execution_count": 7,
      "outputs": []
    },
    {
      "cell_type": "code",
      "metadata": {
        "colab": {
          "base_uri": "https://localhost:8080/"
        },
        "id": "IDfpU3O48F3s",
        "outputId": "22271019-6853-49ec-f5f9-ea1fc6e5e377"
      },
      "source": [
        "vocab = np.array(encoder.get_vocabulary())\n",
        "#see the most used words, dtype not included\n",
        "vocab[:30]"
      ],
      "execution_count": 8,
      "outputs": [
        {
          "output_type": "execute_result",
          "data": {
            "text/plain": [
              "array(['', '[UNK]', 'the', 'and', 'a', 'of', 'to', 'is', 'in', 'it', 'i',\n",
              "       'this', 'that', 'br', 'was', 'as', 'for', 'with', 'movie', 'but',\n",
              "       'film', 'on', 'not', 'you', 'are', 'his', 'have', 'he', 'be',\n",
              "       'one'], dtype='<U14')"
            ]
          },
          "metadata": {},
          "execution_count": 8
        }
      ]
    },
    {
      "cell_type": "markdown",
      "metadata": {
        "id": "b4FLbsP3_Uv3"
      },
      "source": [
        "Testing to see if the numberized token array exists."
      ]
    },
    {
      "cell_type": "code",
      "metadata": {
        "colab": {
          "base_uri": "https://localhost:8080/"
        },
        "id": "LU8RfMSl-dvk",
        "outputId": "c56509c1-c931-497c-9962-bd1dc21cbb33"
      },
      "source": [
        "encoded_example = encoder(example)[:3].numpy()\n",
        "encoded_example"
      ],
      "execution_count": 9,
      "outputs": [
        {
          "output_type": "execute_result",
          "data": {
            "text/plain": [
              "array([[156, 308,  11, ...,   0,   0,   0],\n",
              "       [  2, 839,   6, ...,   0,   0,   0],\n",
              "       [ 11,  18,   7, ...,   0,   0,   0]])"
            ]
          },
          "metadata": {},
          "execution_count": 9
        }
      ]
    },
    {
      "cell_type": "markdown",
      "metadata": {
        "id": "m0Cg7js5BMhV"
      },
      "source": [
        "Compares the original text with what the computer reads using its limited vocabulary"
      ]
    },
    {
      "cell_type": "code",
      "metadata": {
        "colab": {
          "base_uri": "https://localhost:8080/"
        },
        "id": "zdWJtg8D-f0u",
        "outputId": "9fad41e5-7995-499b-a490-d0325c828a50"
      },
      "source": [
        "for n in range(3):\n",
        "  print(\"Original: \", example[n].numpy())\n",
        "  print(\"Round-trip: \", \" \".join(vocab[encoded_example[n]]))\n",
        "  print()"
      ],
      "execution_count": 10,
      "outputs": [
        {
          "output_type": "stream",
          "name": "stdout",
          "text": [
            "Original:  b'Before seeing this movie, I would\\'ve said that I loved everything Kathy Bates has done. Now it\\'s everything-minus-one. James Woods is pathetic...not his character, his acting. Someone should\\'ve told him that \"poor\" is not synonymous with dirty, nor ignorant, nor cliche. Ditto for Randy Quaid\\'s stereotyping. The only redeeming feature is Henry Thomas, who isn\\'t a strong enough actor to carry this sodden mess. If you enjoy the country, you\\'ll enjoy the scenery. That\\'s the best I can give it.<br /><br />I\\'m a serious fan of both independent and quirky films, but this is simply terrible.'\n",
            "Round-trip:  before seeing this movie i [UNK] said that i loved everything [UNK] [UNK] has done now its [UNK] james [UNK] is [UNK] his character his acting someone [UNK] told him that poor is not [UNK] with [UNK] nor [UNK] nor [UNK] [UNK] for [UNK] [UNK] [UNK] the only [UNK] feature is [UNK] [UNK] who isnt a strong enough actor to [UNK] this [UNK] mess if you enjoy the country youll enjoy the [UNK] thats the best i can give itbr br im a serious fan of both [UNK] and [UNK] films but this is simply terrible                                                                                                                                                                                                                                                                                                                                                                                                                                                                                                                                                                                                                                                                                                                                                                                                                                                                                    \n",
            "\n",
            "Original:  b'The premise to this movie was one which focused on the polarization of of ideologies in the United States.. This was a highly combustible scenario in America whereby two entirely different cultures collided. What justified such heinously depraved actions anyway?.. As this film presents the scene,(while Hickock and Smith drank) these two men were not intoxicated, nor were they under any kind of influence of drugs!! It was a clear cut case of cold and calculated deliberation.. Basically, these violent acts were the end result of emotional and social neglect... Anytime past 1975, we as a nation have nurtured an empathy for deviates who have been victimized by their environment... However, this incident takes place in 1959!! This dreadful revelation sideswiped us, and mired the nation into a tailspin of conflicting ethics!! With the recent release of the movie \"Capote\" based on Truman Capote, who was the creator of the documentary \"In Cold Blood\", the American people have cultivated a new found fascination with this film!! Robert Blake played the role of Perry Smith, one of the villains in this movie... This is seemingly appropriate given the notoriety he has been involved with concerning his personal life!! \"In Cold Blood\" centers on the element of the unexplained... There was no vengeance involved, there was no material gain to be acquired, there was no potential for social advancement here either, this is merely an instance of a latent and insidiously belligerent anger which ends certainly did not justify the means!! The situational diatribes which Hickock and Smith lamented about were always ambiguous!! Under the circumstances, why then should they take their frustrations out on an anonymously unsuspecting and innocent Kansas family?.. Will Geer (Grandpa Walton) plays the prosecuting attorney who is sickened by this act of macabre capriciousness!! His argument is thoroughly convincing... His contention being: \"These two men who demonstrated no mercy are now asking for yours\" This is a line of logic which would induce me to render a verdict of a conviction if I were to be one of the members of the jury!! Absolute disdain for your precarious plight in life does not serve as vindication for orchestrating a capital crime!! It was Capote\\'s instincts that dictated that such a deranged act of violence should have been brought to the American public\\'s attention!! As it turn out, it was a harbinger of things to come.. \"In Cold Blood\" did just that!! This incident was the calm before the storm relating to a pertinent aspect of emergence to the radical 1960\\'s!! Such a lethal charade also served as an insight to the isolated interests which would besiege many typical Americans for the future!!!<br /><br />Truman Capote does a tremendous job on authenticating this savage occurrence with his book, (which was a best seller) and, with this documentary as well... The acting in this film by Robert Blake and Scott Wilson, as well as people like John Forsythe, was incredible!! The director, Richard Brooks, (\"Cat on a Hot Tin Roof\", \"Blackboard Jungle\" \"Elmer Gantry\" and \"Key Largo\" to name but a few!!) was outstanding in his collaborative efforts in this movie!! I think that \"In Cold Blood\" is one of the best films in the history of movies!! The film depicts two reprehensible spawns of depravity who delved into demented theatrics, and wound up captivating a trite gratification for being acknowledged at a pejorative nationwide level!!.... This movie pinpoints a psychological discontentment which spurs on an emerging bevy of counter culture purveyors of violence!! Our nation\\'s ideologies are incredibly different now, than they were in 1959!! This movie introduces the American people to the emotional and vacillating culprits who initiated such a precarious metamorphosis in our overall value system!! I recommend to everyone that they see this movie...\"In Cold Blood\" was the focal point to the film \"Capote\"! Think about it, making a movie about a movie constitutes a rare and coveted accolade in Hollywood!! In the case of \"In Cold Blood\" it is an extreme example of a movie which is vicariously clairvoyant, intellectually elevating, and, of course, it goes without saying, \"In Cold Blood\" was utterly spellbinding, as well as a totally remarkable movie!!'\n",
            "Round-trip:  the premise to this movie was one which [UNK] on the [UNK] of of [UNK] in the [UNK] [UNK] this was a highly [UNK] [UNK] in america [UNK] two [UNK] different [UNK] [UNK] what [UNK] such [UNK] [UNK] [UNK] anyway as this film [UNK] the [UNK] [UNK] and [UNK] [UNK] these two men were not [UNK] nor were they under any kind of [UNK] of [UNK] it was a clear cut case of [UNK] and [UNK] [UNK] basically these [UNK] [UNK] were the end result of emotional and [UNK] [UNK] [UNK] past [UNK] we as a [UNK] have [UNK] an [UNK] for [UNK] who have been [UNK] by their [UNK] however this [UNK] takes place in [UNK] this [UNK] [UNK] [UNK] us and [UNK] the [UNK] into a [UNK] of [UNK] [UNK] with the [UNK] release of the movie [UNK] based on [UNK] [UNK] who was the [UNK] of the documentary in [UNK] blood the american people have [UNK] a new found [UNK] with this film robert [UNK] played the role of [UNK] [UNK] one of the [UNK] in this movie this is [UNK] [UNK] given the [UNK] he has been involved with [UNK] his personal life in [UNK] blood [UNK] on the [UNK] of the [UNK] there was no [UNK] involved there was no material [UNK] to be [UNK] there was no potential for [UNK] [UNK] here either this is [UNK] an [UNK] of a [UNK] and [UNK] [UNK] [UNK] which ends certainly did not [UNK] the means the [UNK] [UNK] which [UNK] and [UNK] [UNK] about were always [UNK] under the [UNK] why then should they take their [UNK] out on an [UNK] [UNK] and [UNK] [UNK] family will [UNK] [UNK] [UNK] plays the [UNK] [UNK] who is [UNK] by this act of [UNK] [UNK] his [UNK] is [UNK] [UNK] his [UNK] being these two men who [UNK] no [UNK] are now [UNK] for [UNK] this is a line of [UNK] which would [UNK] me to [UNK] a [UNK] of a [UNK] if i were to be one of the [UNK] of the [UNK] [UNK] [UNK] for your [UNK] [UNK] in life does not [UNK] as [UNK] for [UNK] a [UNK] crime it was [UNK] [UNK] that [UNK] that such a [UNK] act of violence should have been brought to the american [UNK] attention as it turn out it was a [UNK] of things to come in [UNK] blood did just that this [UNK] was the [UNK] before the [UNK] [UNK] to a [UNK] [UNK] of [UNK] to the [UNK] [UNK] such a [UNK] [UNK] also [UNK] as an [UNK] to the [UNK] [UNK] which would [UNK] many typical [UNK] for the [UNK] br [UNK] [UNK] does a [UNK] job on [UNK] this [UNK] [UNK] with his book which was a best [UNK] and with this documentary as well the acting in this film by robert [UNK] and [UNK] [UNK] as well as people like john [UNK] was [UNK] the director richard [UNK] [UNK] on a hot [UNK] [UNK] [UNK] [UNK] [UNK] [UNK] and [UNK] [UNK] to name but a few was [UNK] in his [UNK] [UNK] in this movie i think that in [UNK] blood is one of the best films in the history of movies the film [UNK] two [UNK] [UNK] of [UNK] who [UNK] into [UNK] [UNK] and [UNK] up [UNK] a [UNK] [UNK] for being [UNK] at a [UNK] [UNK] level this movie [UNK] a [UNK] [UNK] which [UNK] on an [UNK] [UNK] of [UNK] [UNK] [UNK] of violence our [UNK] [UNK] are incredibly different now than they were in [UNK] this movie [UNK] the american people to the emotional and [UNK] [UNK] who [UNK] such a [UNK] [UNK] in our overall [UNK] [UNK] i recommend to everyone that they see this [UNK] [UNK] blood was the [UNK] point to the film [UNK] think about it making a movie about a movie [UNK] a [UNK] and [UNK] [UNK] in hollywood in the case of in [UNK] blood it is an [UNK] example of a movie which is [UNK] [UNK] [UNK] [UNK] and of course it goes without saying in [UNK] blood was [UNK] [UNK] as well as a totally [UNK] movie                                                                                                                                                                                                                                                           \n",
            "\n",
            "Original:  b'This movie is the worst I\\'ve seen in the last 5 years. It is surprising how brilliant actors like two main characters in this movie has accepted to act in such worthless peace of trash. The film is rape/beating and revenge genre. Couple has gone to party and on the way back they hit a deer and he went out to finish it when a jeep full of bad guys comes. He didn\\'t go to their car, instead he has been kicked and well beaten while she tries to run the car engine which betray her and she has been gang raped.Then somehow she is in her fathers house and one of bad guys is her neighbor so she took shotgun and wanted to kill him... So stupid scenario! Bellow Hollywood ! He was against that revenge but \"She is raped\" \"They laugh to her\" so she must kill them all... But once inside the house she was satisfied by pushing rifle\\'s top in bad guys anus and went away while he has gone crazy and execute bad guy. Personally I think that director run out of money before finishing this because movie ends before they execute anyone else involved in this gang-rape and beating which is not big surprise because sponsor obviously has seen this and wanted to take back his money. LoL This movie is not even for people who enjoy watching rape because they won\\'t see anything they are looking for... This director should be banned...It is for upsetting that this peace of trash has been made by British cinematography which I personally like and that is the reason I\\'ve watched this. Don\\'t do it yourself you have better things to do that watching stupid scenario film ...'\n",
            "Round-trip:  this movie is the worst ive seen in the last 5 years it is [UNK] how brilliant actors like two main characters in this movie has [UNK] to act in such [UNK] [UNK] of [UNK] the film is [UNK] and [UNK] genre couple has gone to [UNK] and on the way back they hit a [UNK] and he went out to [UNK] it when a [UNK] full of bad guys comes he didnt go to their car instead he has been [UNK] and well [UNK] while she tries to run the car [UNK] which [UNK] her and she has been [UNK] [UNK] somehow she is in her [UNK] house and one of bad guys is her [UNK] so she took [UNK] and wanted to kill him so stupid [UNK] [UNK] hollywood he was against that [UNK] but she is [UNK] they laugh to her so she must kill them all but once inside the house she was [UNK] by [UNK] [UNK] top in bad guys [UNK] and went away while he has gone crazy and [UNK] bad guy [UNK] i think that director run out of money before [UNK] this because movie ends before they [UNK] anyone else involved in this [UNK] and [UNK] which is not big surprise because [UNK] obviously has seen this and wanted to take back his money [UNK] this movie is not even for people who enjoy watching [UNK] because they wont see anything they are looking for this director should be [UNK] is for [UNK] that this [UNK] of [UNK] has been made by british cinematography which i [UNK] like and that is the reason ive watched this dont do it yourself you have better things to do that watching stupid [UNK] film                                                                                                                                                                                                                                                                                                                                                                                                                                                                                                                                                                                                                                                                                   \n",
            "\n"
          ]
        }
      ]
    },
    {
      "cell_type": "code",
      "metadata": {
        "id": "gXx9_4R4B5jl"
      },
      "source": [
        "#the explanation for this had a lot of words that i don't understand, look up later\n",
        "#Sequential allows you to easily lasagna your layers in one line of code\n",
        "model = tf.keras.Sequential([\n",
        "    encoder,\n",
        "    tf.keras.layers.Embedding(\n",
        "        input_dim=len(encoder.get_vocabulary()),  #sets the length of the array\n",
        "        output_dim=64,                            #makes each token/number in the array into a vector of 64 numbers\n",
        "        mask_zero=True),                          #does padding and masking to handle variable lengths and ignore the padding respectively\n",
        "    tf.keras.layers.Bidirectional(tf.keras.layers.LSTM(64)),\n",
        "    tf.keras.layers.Dense(64, activation='relu'), #converts the vector into a logit\n",
        "    tf.keras.layers.Dense(1)\n",
        "])"
      ],
      "execution_count": 11,
      "outputs": []
    },
    {
      "cell_type": "markdown",
      "metadata": {
        "id": "qzTNvIBhJPpA"
      },
      "source": [
        "Testing the padding and masking. The same text should produce the same results regardless of whether there is padding. Obviously the actual number does not matter since the model hasn't learned anything yet."
      ]
    },
    {
      "cell_type": "code",
      "metadata": {
        "colab": {
          "base_uri": "https://localhost:8080/"
        },
        "id": "Syznh4ctHwXD",
        "outputId": "130eb94a-ca2e-4265-b9ad-b20a3318f694"
      },
      "source": [
        "#no padding\n",
        "sample_text = ('The movie was cool. The animation and the graphics '\n",
        "               'were out of this world. I would recommend this movie.')\n",
        "predictions = model.predict(np.array([sample_text]))\n",
        "print(predictions[0])"
      ],
      "execution_count": 12,
      "outputs": [
        {
          "output_type": "stream",
          "name": "stdout",
          "text": [
            "[-0.00304103]\n"
          ]
        }
      ]
    },
    {
      "cell_type": "code",
      "metadata": {
        "colab": {
          "base_uri": "https://localhost:8080/"
        },
        "id": "LQOY2lGbIgj2",
        "outputId": "ac0c6521-fc34-40f4-cd3d-581fe0504873"
      },
      "source": [
        "#with padding\n",
        "padding = \"wow \" * 100 #can interchange string with anything to produce same results\n",
        "predictions = model.predict(np.array([sample_text, padding]))\n",
        "print(predictions[0])"
      ],
      "execution_count": 13,
      "outputs": [
        {
          "output_type": "stream",
          "name": "stdout",
          "text": [
            "[-0.00304103]\n"
          ]
        }
      ]
    },
    {
      "cell_type": "code",
      "metadata": {
        "id": "5cSugbGPJxlE"
      },
      "source": [
        "#compiling the model\n",
        "model.compile(loss=tf.keras.losses.BinaryCrossentropy(from_logits=True),\n",
        "              optimizer=tf.keras.optimizers.Adam(1e-4), #determines the speed at which the model learns\n",
        "              metrics=['accuracy'])"
      ],
      "execution_count": 14,
      "outputs": []
    },
    {
      "cell_type": "markdown",
      "metadata": {
        "id": "Q90_2b5cJ7mh"
      },
      "source": [
        "#Training the model"
      ]
    },
    {
      "cell_type": "code",
      "metadata": {
        "colab": {
          "base_uri": "https://localhost:8080/"
        },
        "id": "2X5wunGDJ9FI",
        "outputId": "5e02fd12-2f04-44c2-dff9-e378d4bbcdb2"
      },
      "source": [
        "#this takes way too long, at least 2s/step when the demo takes 200-400 ms/step\n",
        "#epoch time takes >700 seconds, over 2 hours to make the whole thing!\n",
        "#FIXED: the answer is that the demo has GPU accel on in the Google Colab settings >>\n",
        "history = model.fit(train_dataset, \n",
        "                    epochs = 10,\n",
        "                    validation_data = test_dataset,\n",
        "                    validation_steps = 30)"
      ],
      "execution_count": 15,
      "outputs": [
        {
          "output_type": "stream",
          "name": "stdout",
          "text": [
            "Epoch 1/10\n",
            "391/391 [==============================] - 106s 248ms/step - loss: 0.6281 - accuracy: 0.5820 - val_loss: 0.4599 - val_accuracy: 0.7854\n",
            "Epoch 2/10\n",
            "391/391 [==============================] - 93s 236ms/step - loss: 0.3886 - accuracy: 0.8224 - val_loss: 0.3641 - val_accuracy: 0.8271\n",
            "Epoch 3/10\n",
            "391/391 [==============================] - 95s 239ms/step - loss: 0.3359 - accuracy: 0.8527 - val_loss: 0.3482 - val_accuracy: 0.8401\n",
            "Epoch 4/10\n",
            "391/391 [==============================] - 93s 235ms/step - loss: 0.3203 - accuracy: 0.8608 - val_loss: 0.3295 - val_accuracy: 0.8578\n",
            "Epoch 5/10\n",
            "391/391 [==============================] - 95s 240ms/step - loss: 0.3130 - accuracy: 0.8654 - val_loss: 0.3349 - val_accuracy: 0.8417\n",
            "Epoch 6/10\n",
            "391/391 [==============================] - 97s 244ms/step - loss: 0.3084 - accuracy: 0.8671 - val_loss: 0.3375 - val_accuracy: 0.8604\n",
            "Epoch 7/10\n",
            "391/391 [==============================] - 95s 241ms/step - loss: 0.3051 - accuracy: 0.8681 - val_loss: 0.3321 - val_accuracy: 0.8568\n",
            "Epoch 8/10\n",
            "391/391 [==============================] - 95s 239ms/step - loss: 0.3021 - accuracy: 0.8706 - val_loss: 0.3246 - val_accuracy: 0.8484\n",
            "Epoch 9/10\n",
            "391/391 [==============================] - 93s 236ms/step - loss: 0.3029 - accuracy: 0.8712 - val_loss: 0.3231 - val_accuracy: 0.8599\n",
            "Epoch 10/10\n",
            "391/391 [==============================] - 95s 240ms/step - loss: 0.3003 - accuracy: 0.8721 - val_loss: 0.3184 - val_accuracy: 0.8552\n"
          ]
        }
      ]
    },
    {
      "cell_type": "markdown",
      "metadata": {
        "id": "HDAsopx5u0IG"
      },
      "source": [
        "#Testing the Model using the Dataset"
      ]
    },
    {
      "cell_type": "code",
      "metadata": {
        "id": "ES5-iGjSpQ1T",
        "colab": {
          "base_uri": "https://localhost:8080/"
        },
        "outputId": "aaea6eed-2dfe-4300-8cb2-e45d4cef2ea4"
      },
      "source": [
        "test_loss, test_acc = model.evaluate(test_dataset)\n",
        "\n",
        "print('Test Loss:', test_loss)\n",
        "print('Test Accuracy:', test_acc)"
      ],
      "execution_count": 16,
      "outputs": [
        {
          "output_type": "stream",
          "name": "stdout",
          "text": [
            "391/391 [==============================] - 49s 126ms/step - loss: 0.3153 - accuracy: 0.8572\n",
            "Test Loss: 0.3152599632740021\n",
            "Test Accuracy: 0.8572400212287903\n"
          ]
        }
      ]
    },
    {
      "cell_type": "markdown",
      "metadata": {
        "id": "7rH2VEEY9Yhb"
      },
      "source": [
        "Make a graph to visualize the accuracy of the model over the number of epochs. We should see a exponentially diminishing return. Validation accuracy should be less than accuracy over time as the model has less experience with it."
      ]
    },
    {
      "cell_type": "code",
      "metadata": {
        "id": "6HvnwlUYqGa3",
        "colab": {
          "base_uri": "https://localhost:8080/",
          "height": 518
        },
        "outputId": "ba36ebb9-b0bb-479c-df17-cfdce6250fd6"
      },
      "source": [
        "plt.figure(figsize=(16, 8))\n",
        "plt.subplot(1, 2, 1)\n",
        "plot_graphs(history, 'accuracy')\n",
        "plt.ylim(None, 1)\n",
        "plt.subplot(1, 2, 2)\n",
        "plot_graphs(history, 'loss')\n",
        "plt.ylim(0, None)"
      ],
      "execution_count": 17,
      "outputs": [
        {
          "output_type": "execute_result",
          "data": {
            "text/plain": [
              "(0.0, 0.6444619312882424)"
            ]
          },
          "metadata": {},
          "execution_count": 17
        },
        {
          "output_type": "display_data",
          "data": {
            "image/png": "[encoded data removed]",
            "text/plain": [
              "<Figure size 1152x576 with 2 Axes>"
            ]
          },
          "metadata": {
            "needs_background": "light"
          }
        }
      ]
    },
    {
      "cell_type": "markdown",
      "metadata": {
        "id": "uCr2ZGojuuhC"
      },
      "source": [
        "#Predicting with the Model"
      ]
    },
    {
      "cell_type": "markdown",
      "metadata": {
        "id": "tVK6mRGufBhX"
      },
      "source": [
        "###Testing some positive and negative words\n",
        "\n",
        "Despite searching all over the code and paper from which the dataset comes from, I do not know how big the scale is. Instead I've chosen a few positive and negative words to give a sense of scale."
      ]
    },
    {
      "cell_type": "markdown",
      "metadata": {
        "id": "O_t8rZ4NO_2S"
      },
      "source": [
        "Testing some positive words to see if the model correlates positive words effectively. Interestingly the word 'better' is seen as a slightly negative word. This is probably because people writing reviews tend to give suggestions as to what could've been done better rather than saying X movie is better than Y."
      ]
    },
    {
      "cell_type": "code",
      "metadata": {
        "id": "6-B9TlWX517-",
        "colab": {
          "base_uri": "https://localhost:8080/"
        },
        "outputId": "505d0a38-d764-4f93-e82b-ba8e184025b2"
      },
      "source": [
        "positive_words = [\"good\", \"better\", \"best\", \"amazing\", \"great\", \"best amazing\"]\n",
        "for i in range(len(positive_words)):\n",
        "  predictions = model.predict(np.array([positive_words[i]]))\n",
        "  print(positive_words[i], predictions[0])"
      ],
      "execution_count": 18,
      "outputs": [
        {
          "output_type": "stream",
          "name": "stdout",
          "text": [
            "good [0.26153472]\n",
            "better [-0.2714854]\n",
            "best [0.52770936]\n",
            "amazing [0.72587854]\n",
            "great [0.5553065]\n",
            "best amazing [1.1812457]\n"
          ]
        }
      ]
    },
    {
      "cell_type": "markdown",
      "metadata": {
        "id": "fw15WI8YeVaa"
      },
      "source": [
        "Testing some negative words to see how the model correlates negative words. It's worth noting how much stronger the effect of negative words has on the model, much like how humans tend to think more about the negative side rather than the positive side."
      ]
    },
    {
      "cell_type": "code",
      "metadata": {
        "id": "mLjzNnAYeT55",
        "colab": {
          "base_uri": "https://localhost:8080/"
        },
        "outputId": "5c1c4d54-0fdc-4f3e-a73e-901b7d3d8bf9"
      },
      "source": [
        "negative_words = [\"bad\", \"worse\", \"worst\", \"terrible\", \"boring\"]\n",
        "for i in range(len(negative_words)):\n",
        "  predictions = model.predict(np.array([negative_words[i]]))\n",
        "  print(negative_words[i], predictions[0])"
      ],
      "execution_count": 19,
      "outputs": [
        {
          "output_type": "stream",
          "name": "stdout",
          "text": [
            "bad [-0.696154]\n",
            "worse [-1.137489]\n",
            "worst [-2.0895407]\n",
            "terrible [-1.1971538]\n",
            "boring [-1.2372494]\n"
          ]
        }
      ]
    },
    {
      "cell_type": "markdown",
      "metadata": {
        "id": "_06StARgfp3G"
      },
      "source": [
        "###Predicting the given text"
      ]
    },
    {
      "cell_type": "markdown",
      "metadata": {
        "id": "1l1VQPAFiB2D"
      },
      "source": [
        "Upload the input files here by running the code and then choosing the desired file to upload."
      ]
    },
    {
      "cell_type": "code",
      "metadata": {
        "id": "Vnm6Rmc3uuDZ",
        "colab": {
          "resources": {
            "http://localhost:8080/nbextensions/google.colab/files.js": {
              "data": "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",
              "ok": true,
              "headers": [
                [
                  "content-type",
                  "application/javascript"
                ]
              ],
              "status": 200,
              "status_text": ""
            }
          },
          "base_uri": "https://localhost:8080/",
          "height": 109
        },
        "outputId": "3f0794d8-acae-495f-ee9c-2c369c2886df"
      },
      "source": [
        "from google.colab import files\n",
        "uploaded = files.upload()\n",
        "uploaded\n"
      ],
      "execution_count": 20,
      "outputs": [
        {
          "output_type": "display_data",
          "data": {
            "text/html": [
              "\n",
              "     <input type=\"file\" id=\"files-49fda5db-37aa-4013-9597-3d9bf32681aa\" name=\"files[]\" multiple disabled\n",
              "        style=\"border:none\" />\n",
              "     <output id=\"result-49fda5db-37aa-4013-9597-3d9bf32681aa\">\n",
              "      Upload widget is only available when the cell has been executed in the\n",
              "      current browser session. Please rerun this cell to enable.\n",
              "      </output>\n",
              "      <script src=\"/nbextensions/google.colab/files.js\"></script> "
            ],
            "text/plain": [
              "<IPython.core.display.HTML object>"
            ]
          },
          "metadata": {}
        },
        {
          "output_type": "stream",
          "name": "stdout",
          "text": [
            "Saving input.txt to input.txt\n"
          ]
        },
        {
          "output_type": "execute_result",
          "data": {
            "text/plain": [
              "{'input.txt': b'\"Stop blushing. I\\'m not needling, really I\\'m not. Do you know, I\\r\\nhad a dream an hour ago. I lay down for a cat-nap and in this dream\\r\\nyou and I, Montag, got into a furious debate on books. You towered\\r\\nwith rage, yelled quotes at me. I calmly parried every thrust. Power, I\\r\\nsaid, And you, quoting Dr. Johnson, said `Knowledge is more than\\r\\nequivalent to force!\\' And I said, `Well, Dr. Johnson also said, dear boy,\\r\\nthat \"He is no wise man that will quit a certainty for an uncertainty.\\'\"\\r\\nStick with the fireman, Montag. All else is dreary chaos!\"\\r\\n\"Don\\'t listen,\" whispered Faber. \"He\\'s trying to confuse. He\\'s\\r\\nslippery. Watch out!\"\\r\\nBeatty chuckled. \"And you said, quoting, `Truth will come to light,\\r\\nmurder will not be hid long!\\' And I cried in good humour, \\'Oh God, he\\r\\nspeaks only of his horse!\\' And `The Devil can cite Scripture for his\\r\\npurpose.\\' And you yelled, \\'This age thinks better of a gilded fool, than\\r\\nof a threadbare saint in wisdom\\'s school!\\' And I whispered gently, \\'The\\r\\ndignity of truth is lost with much protesting.\\' And you screamed,\\r\\n\\'Carcasses bleed at the sight of the murderer!\\' And I said, patting your\\r\\nhand, \\'What, do I give you trench mouth?\\' And you shrieked,\\r\\n\\'Knowledge is power!\\' and \\'A dwarf on a giant\\'s shoulders of the\\r\\nfurthest of the two!\\' and I summed my side up with rare serenity in,\\r\\n\\'The folly of mistaking a metaphor for a proof, a torrent of verbiage for\\r\\na spring of capital truths, and oneself as an oracle, is inborn in us, Mr.\\r\\nValery once said.\\'\" \\r\\n\\r\\nI think you may like to know something of his person and character. He \\r\\nhad an excellent constitution of body, was of middle stature, but well set, \\r\\nand very strong; he was ingenious, could draw prettily, was skilled a little \\r\\nin music, and had a clear, pleasing voice, so that when he played psalm tunes\\r\\n on his violin and sung withal, as he sometimes did in an evening after \\r\\nthe business of the day was over, it was extremely agreeable to hear. He had \\r\\na mechanical genius too, and, on occasion, was very handy in the use of other \\r\\ntradesmen\\'s tools; but his great excellence lay in a sound understanding and \\r\\nsolid judgment in prudential matters, both in private and publick affairs. \\r\\nIn the latter, indeed, he was never employed, the numerous family he had to \\r\\neducate and the straitness of his circumstances keeping him close to his trade; \\r\\nbut I remember well his being frequently visited by leading people, who \\r\\nconsulted him for his opinion in affairs of the town or of the church he \\r\\nbelonged to, and showed a good deal of respect for his judgment and advice: \\r\\nhe was also much consulted by private persons about their affairs when any difficulty \\r\\noccurred, and frequently chosen an arbitrator between contending parties. \\r\\nAt his table he liked to have, as often as he could, some sensible friend or \\r\\nneighbor to converse with, and always took care to start some ingenious or useful \\r\\ntopic for discourse, which might tend to improve the minds of his children. \\r\\nBy this means he turned our attention to what was good, just, and prudent in \\r\\nthe conduct of life; and little or no notice was ever taken of what related to \\r\\nthe victuals on the table, whether it was well or ill dressed, in or out of season, \\r\\nof good or bad flavor, preferable or inferior to this or that other thing \\r\\nof the kind, so that I was bro\\'t up in such a perfect inattention to those matters \\r\\nas to be quite indifferent what kind of food was set before me, and so unobservant of \\r\\nit, that to this day if I am asked I can scarce tell a few hours after dinner \\r\\nwhat I dined upon. This has been a convenience to me in traveling, where my \\r\\ncompanions have been sometimes very unhappy for want of a suitable gratification \\r\\nof their more delicate, because better instructed, tastes and appetites.'}"
            ]
          },
          "metadata": {},
          "execution_count": 20
        }
      ]
    },
    {
      "cell_type": "markdown",
      "metadata": {
        "id": "j6V32FKwiM3f"
      },
      "source": [
        "Parsing the text file to be usable by our model."
      ]
    },
    {
      "cell_type": "code",
      "metadata": {
        "id": "21RpU2cAKc9t",
        "colab": {
          "base_uri": "https://localhost:8080/"
        },
        "outputId": "fcdef3a1-1c73-40a9-ec06-84671f2eaf9b"
      },
      "source": [
        "file_name = list(uploaded.keys())[0]\n",
        "print(file_name)\n",
        "uploaded[file_name]\n",
        "\n",
        "#input.txt is encoded in binary and its text blocks are split using double returns\n",
        "text_blocks = uploaded[file_name].decode(\"utf-8\").split(\"\\r\\n\\r\\n\")\n",
        "\n",
        "#print out the first 100 characters to confirm that the text blocks have been properly parsed for use\n",
        "print(text_blocks[0][:100])\n",
        "print(text_blocks[1][:100])"
      ],
      "execution_count": 21,
      "outputs": [
        {
          "output_type": "stream",
          "name": "stdout",
          "text": [
            "input.txt\n",
            "\"Stop blushing. I'm not needling, really I'm not. Do you know, I\r\n",
            "had a dream an hour ago. I lay dow\n",
            "I think you may like to know something of his person and character. He \r\n",
            "had an excellent constituti\n"
          ]
        }
      ]
    },
    {
      "cell_type": "markdown",
      "metadata": {
        "id": "7TrZp4J26-d3"
      },
      "source": [
        "Predicting the first block of code. This one is a passage from Farenheit 451 (thank you Mr. Webster) where characters are having a philosophical debate. The model predicts a slightly negative tone, which is what I expected given the setting of this conversation."
      ]
    },
    {
      "cell_type": "code",
      "metadata": {
        "id": "zcVEdLTOHKcT",
        "colab": {
          "base_uri": "https://localhost:8080/"
        },
        "outputId": "92d15b4f-1f81-4dec-ce66-0532ac6ee29e"
      },
      "source": [
        "sample_text = text_blocks[0]\n",
        "predictions = model.predict(np.array([sample_text]))\n",
        "print(predictions[0])\n",
        "print(sample_text)"
      ],
      "execution_count": 22,
      "outputs": [
        {
          "output_type": "stream",
          "name": "stdout",
          "text": [
            "[-0.2662613]\n",
            "\"Stop blushing. I'm not needling, really I'm not. Do you know, I\r\n",
            "had a dream an hour ago. I lay down for a cat-nap and in this dream\r\n",
            "you and I, Montag, got into a furious debate on books. You towered\r\n",
            "with rage, yelled quotes at me. I calmly parried every thrust. Power, I\r\n",
            "said, And you, quoting Dr. Johnson, said `Knowledge is more than\r\n",
            "equivalent to force!' And I said, `Well, Dr. Johnson also said, dear boy,\r\n",
            "that \"He is no wise man that will quit a certainty for an uncertainty.'\"\r\n",
            "Stick with the fireman, Montag. All else is dreary chaos!\"\r\n",
            "\"Don't listen,\" whispered Faber. \"He's trying to confuse. He's\r\n",
            "slippery. Watch out!\"\r\n",
            "Beatty chuckled. \"And you said, quoting, `Truth will come to light,\r\n",
            "murder will not be hid long!' And I cried in good humour, 'Oh God, he\r\n",
            "speaks only of his horse!' And `The Devil can cite Scripture for his\r\n",
            "purpose.' And you yelled, 'This age thinks better of a gilded fool, than\r\n",
            "of a threadbare saint in wisdom's school!' And I whispered gently, 'The\r\n",
            "dignity of truth is lost with much protesting.' And you screamed,\r\n",
            "'Carcasses bleed at the sight of the murderer!' And I said, patting your\r\n",
            "hand, 'What, do I give you trench mouth?' And you shrieked,\r\n",
            "'Knowledge is power!' and 'A dwarf on a giant's shoulders of the\r\n",
            "furthest of the two!' and I summed my side up with rare serenity in,\r\n",
            "'The folly of mistaking a metaphor for a proof, a torrent of verbiage for\r\n",
            "a spring of capital truths, and oneself as an oracle, is inborn in us, Mr.\r\n",
            "Valery once said.'\" \n"
          ]
        }
      ]
    },
    {
      "cell_type": "markdown",
      "metadata": {
        "id": "VZ_LlA6x6pwb"
      },
      "source": [
        "Predicting the next block of text. This one reads like a recommendation letter, and should score positively. It scored very postively. I expected the model to have issues because of some dated English used in the passage, since the IMDB dataset features exclusively English from the last few decades."
      ]
    },
    {
      "cell_type": "code",
      "metadata": {
        "id": "Ku79FnwhNb90",
        "colab": {
          "base_uri": "https://localhost:8080/"
        },
        "outputId": "551b133a-5cf1-434c-eda3-4e749a03b6d9"
      },
      "source": [
        "sample_text = text_blocks[1]\n",
        "\n",
        "predictions = model.predict(np.array([sample_text]))\n",
        "print(predictions[0])\n",
        "print(sample_text)"
      ],
      "execution_count": 23,
      "outputs": [
        {
          "output_type": "stream",
          "name": "stdout",
          "text": [
            "[2.0830526]\n",
            "I think you may like to know something of his person and character. He \r\n",
            "had an excellent constitution of body, was of middle stature, but well set, \r\n",
            "and very strong; he was ingenious, could draw prettily, was skilled a little \r\n",
            "in music, and had a clear, pleasing voice, so that when he played psalm tunes\r\n",
            " on his violin and sung withal, as he sometimes did in an evening after \r\n",
            "the business of the day was over, it was extremely agreeable to hear. He had \r\n",
            "a mechanical genius too, and, on occasion, was very handy in the use of other \r\n",
            "tradesmen's tools; but his great excellence lay in a sound understanding and \r\n",
            "solid judgment in prudential matters, both in private and publick affairs. \r\n",
            "In the latter, indeed, he was never employed, the numerous family he had to \r\n",
            "educate and the straitness of his circumstances keeping him close to his trade; \r\n",
            "but I remember well his being frequently visited by leading people, who \r\n",
            "consulted him for his opinion in affairs of the town or of the church he \r\n",
            "belonged to, and showed a good deal of respect for his judgment and advice: \r\n",
            "he was also much consulted by private persons about their affairs when any difficulty \r\n",
            "occurred, and frequently chosen an arbitrator between contending parties. \r\n",
            "At his table he liked to have, as often as he could, some sensible friend or \r\n",
            "neighbor to converse with, and always took care to start some ingenious or useful \r\n",
            "topic for discourse, which might tend to improve the minds of his children. \r\n",
            "By this means he turned our attention to what was good, just, and prudent in \r\n",
            "the conduct of life; and little or no notice was ever taken of what related to \r\n",
            "the victuals on the table, whether it was well or ill dressed, in or out of season, \r\n",
            "of good or bad flavor, preferable or inferior to this or that other thing \r\n",
            "of the kind, so that I was bro't up in such a perfect inattention to those matters \r\n",
            "as to be quite indifferent what kind of food was set before me, and so unobservant of \r\n",
            "it, that to this day if I am asked I can scarce tell a few hours after dinner \r\n",
            "what I dined upon. This has been a convenience to me in traveling, where my \r\n",
            "companions have been sometimes very unhappy for want of a suitable gratification \r\n",
            "of their more delicate, because better instructed, tastes and appetites.\n"
          ]
        }
      ]
    }
  ]
}